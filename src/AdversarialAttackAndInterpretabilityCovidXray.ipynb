{
  "nbformat": 4,
  "nbformat_minor": 0,
  "metadata": {
    "kernelspec": {
      "display_name": "Python 3",
      "language": "python",
      "name": "python3"
    },
    "language_info": {
      "codemirror_mode": {
        "name": "ipython",
        "version": 3
      },
      "file_extension": ".py",
      "mimetype": "text/x-python",
      "name": "python",
      "nbconvert_exporter": "python",
      "pygments_lexer": "ipython3",
      "version": "3.6.6"
    },
    "colab": {
      "name": "AdversarialAttackAndInterpretabilityCovidXray.ipynb",
      "provenance": [],
      "collapsed_sections": [],
      "toc_visible": true
    },
    "accelerator": "GPU"
  },
  "cells": [
    {
      "cell_type": "markdown",
      "metadata": {
        "id": "Z1J0z-QZOwJp",
        "colab_type": "text"
      },
      "source": [
        "# Adversarial AttacksAnd Interpretability Covid Chestxray Dataset\n",
        "\n",
        "Final Project - Cognitive Computing and Artificial Intelligence - UniCT a.a 2019/2020\n",
        "\n",
        "*   Raiti Mario O55000434\n",
        "*   Sortino Renato O55000405\n",
        "*   Nardo Gabriele Salvatore O55000430"
      ]
    },
    {
      "cell_type": "markdown",
      "metadata": {
        "id": "JfPtxK2G3_O0",
        "colab_type": "text"
      },
      "source": [
        "## Import Libraries"
      ]
    },
    {
      "cell_type": "code",
      "metadata": {
        "id": "N7cKl1Gs3_O1",
        "colab_type": "code",
        "colab": {}
      },
      "source": [
        "import numpy as np # linear algebra\n",
        "import pandas as pd # data processing, CSV file I/O (e.g. pd.read_csv)\n",
        "import matplotlib.pyplot as plt\n",
        "import os, random, torch, time, copy\n",
        "import torch.nn.functional as F\n",
        "from torch import nn\n",
        "from torch import optim\n",
        "from torchvision import datasets, transforms, models\n",
        "from torch.utils.data import Dataset\n",
        "from PIL import Image, ImageOps, ImageFilter\n",
        "from skimage.filters import threshold_local\n",
        "from torch.autograd import Variable"
      ],
      "execution_count": 1,
      "outputs": []
    },
    {
      "cell_type": "code",
      "metadata": {
        "id": "f0dlkGL-6bv1",
        "colab_type": "code",
        "colab": {
          "base_uri": "https://localhost:8080/",
          "height": 279
        },
        "outputId": "2868c599-f454-436b-b616-04fd528d80dd"
      },
      "source": [
        "!pip install captum"
      ],
      "execution_count": 2,
      "outputs": [
        {
          "output_type": "stream",
          "text": [
            "Collecting captum\n",
            "\u001b[?25l  Downloading https://files.pythonhosted.org/packages/42/de/c018e206d463d9975444c28b0a4f103c9ca4b2faedf943df727e402a1a1e/captum-0.2.0-py3-none-any.whl (1.4MB)\n",
            "\r\u001b[K     |▎                               | 10kB 22.7MB/s eta 0:00:01\r\u001b[K     |▌                               | 20kB 26.2MB/s eta 0:00:01\r\u001b[K     |▊                               | 30kB 18.2MB/s eta 0:00:01\r\u001b[K     |█                               | 40kB 12.1MB/s eta 0:00:01\r\u001b[K     |█▏                              | 51kB 11.8MB/s eta 0:00:01\r\u001b[K     |█▍                              | 61kB 11.7MB/s eta 0:00:01\r\u001b[K     |█▊                              | 71kB 11.7MB/s eta 0:00:01\r\u001b[K     |██                              | 81kB 11.6MB/s eta 0:00:01\r\u001b[K     |██▏                             | 92kB 10.8MB/s eta 0:00:01\r\u001b[K     |██▍                             | 102kB 10.7MB/s eta 0:00:01\r\u001b[K     |██▋                             | 112kB 10.7MB/s eta 0:00:01\r\u001b[K     |██▉                             | 122kB 10.7MB/s eta 0:00:01\r\u001b[K     |███                             | 133kB 10.7MB/s eta 0:00:01\r\u001b[K     |███▍                            | 143kB 10.7MB/s eta 0:00:01\r\u001b[K     |███▋                            | 153kB 10.7MB/s eta 0:00:01\r\u001b[K     |███▉                            | 163kB 10.7MB/s eta 0:00:01\r\u001b[K     |████                            | 174kB 10.7MB/s eta 0:00:01\r\u001b[K     |████▎                           | 184kB 10.7MB/s eta 0:00:01\r\u001b[K     |████▌                           | 194kB 10.7MB/s eta 0:00:01\r\u001b[K     |████▉                           | 204kB 10.7MB/s eta 0:00:01\r\u001b[K     |█████                           | 215kB 10.7MB/s eta 0:00:01\r\u001b[K     |█████▎                          | 225kB 10.7MB/s eta 0:00:01\r\u001b[K     |█████▌                          | 235kB 10.7MB/s eta 0:00:01\r\u001b[K     |█████▊                          | 245kB 10.7MB/s eta 0:00:01\r\u001b[K     |██████                          | 256kB 10.7MB/s eta 0:00:01\r\u001b[K     |██████▏                         | 266kB 10.7MB/s eta 0:00:01\r\u001b[K     |██████▌                         | 276kB 10.7MB/s eta 0:00:01\r\u001b[K     |██████▊                         | 286kB 10.7MB/s eta 0:00:01\r\u001b[K     |███████                         | 296kB 10.7MB/s eta 0:00:01\r\u001b[K     |███████▏                        | 307kB 10.7MB/s eta 0:00:01\r\u001b[K     |███████▍                        | 317kB 10.7MB/s eta 0:00:01\r\u001b[K     |███████▋                        | 327kB 10.7MB/s eta 0:00:01\r\u001b[K     |████████                        | 337kB 10.7MB/s eta 0:00:01\r\u001b[K     |████████▏                       | 348kB 10.7MB/s eta 0:00:01\r\u001b[K     |████████▍                       | 358kB 10.7MB/s eta 0:00:01\r\u001b[K     |████████▋                       | 368kB 10.7MB/s eta 0:00:01\r\u001b[K     |████████▉                       | 378kB 10.7MB/s eta 0:00:01\r\u001b[K     |█████████                       | 389kB 10.7MB/s eta 0:00:01\r\u001b[K     |█████████▎                      | 399kB 10.7MB/s eta 0:00:01\r\u001b[K     |█████████▋                      | 409kB 10.7MB/s eta 0:00:01\r\u001b[K     |█████████▉                      | 419kB 10.7MB/s eta 0:00:01\r\u001b[K     |██████████                      | 430kB 10.7MB/s eta 0:00:01\r\u001b[K     |██████████▎                     | 440kB 10.7MB/s eta 0:00:01\r\u001b[K     |██████████▌                     | 450kB 10.7MB/s eta 0:00:01\r\u001b[K     |██████████▊                     | 460kB 10.7MB/s eta 0:00:01\r\u001b[K     |███████████                     | 471kB 10.7MB/s eta 0:00:01\r\u001b[K     |███████████▎                    | 481kB 10.7MB/s eta 0:00:01\r\u001b[K     |███████████▌                    | 491kB 10.7MB/s eta 0:00:01\r\u001b[K     |███████████▊                    | 501kB 10.7MB/s eta 0:00:01\r\u001b[K     |████████████                    | 512kB 10.7MB/s eta 0:00:01\r\u001b[K     |████████████▏                   | 522kB 10.7MB/s eta 0:00:01\r\u001b[K     |████████████▍                   | 532kB 10.7MB/s eta 0:00:01\r\u001b[K     |████████████▊                   | 542kB 10.7MB/s eta 0:00:01\r\u001b[K     |█████████████                   | 552kB 10.7MB/s eta 0:00:01\r\u001b[K     |█████████████▏                  | 563kB 10.7MB/s eta 0:00:01\r\u001b[K     |█████████████▍                  | 573kB 10.7MB/s eta 0:00:01\r\u001b[K     |█████████████▋                  | 583kB 10.7MB/s eta 0:00:01\r\u001b[K     |█████████████▉                  | 593kB 10.7MB/s eta 0:00:01\r\u001b[K     |██████████████                  | 604kB 10.7MB/s eta 0:00:01\r\u001b[K     |██████████████▍                 | 614kB 10.7MB/s eta 0:00:01\r\u001b[K     |██████████████▋                 | 624kB 10.7MB/s eta 0:00:01\r\u001b[K     |██████████████▉                 | 634kB 10.7MB/s eta 0:00:01\r\u001b[K     |███████████████                 | 645kB 10.7MB/s eta 0:00:01\r\u001b[K     |███████████████▎                | 655kB 10.7MB/s eta 0:00:01\r\u001b[K     |███████████████▌                | 665kB 10.7MB/s eta 0:00:01\r\u001b[K     |███████████████▉                | 675kB 10.7MB/s eta 0:00:01\r\u001b[K     |████████████████                | 686kB 10.7MB/s eta 0:00:01\r\u001b[K     |████████████████▎               | 696kB 10.7MB/s eta 0:00:01\r\u001b[K     |████████████████▌               | 706kB 10.7MB/s eta 0:00:01\r\u001b[K     |████████████████▊               | 716kB 10.7MB/s eta 0:00:01\r\u001b[K     |█████████████████               | 727kB 10.7MB/s eta 0:00:01\r\u001b[K     |█████████████████▏              | 737kB 10.7MB/s eta 0:00:01\r\u001b[K     |█████████████████▌              | 747kB 10.7MB/s eta 0:00:01\r\u001b[K     |█████████████████▊              | 757kB 10.7MB/s eta 0:00:01\r\u001b[K     |██████████████████              | 768kB 10.7MB/s eta 0:00:01\r\u001b[K     |██████████████████▏             | 778kB 10.7MB/s eta 0:00:01\r\u001b[K     |██████████████████▍             | 788kB 10.7MB/s eta 0:00:01\r\u001b[K     |██████████████████▋             | 798kB 10.7MB/s eta 0:00:01\r\u001b[K     |███████████████████             | 808kB 10.7MB/s eta 0:00:01\r\u001b[K     |███████████████████▏            | 819kB 10.7MB/s eta 0:00:01\r\u001b[K     |███████████████████▍            | 829kB 10.7MB/s eta 0:00:01\r\u001b[K     |███████████████████▋            | 839kB 10.7MB/s eta 0:00:01\r\u001b[K     |███████████████████▉            | 849kB 10.7MB/s eta 0:00:01\r\u001b[K     |████████████████████            | 860kB 10.7MB/s eta 0:00:01\r\u001b[K     |████████████████████▎           | 870kB 10.7MB/s eta 0:00:01\r\u001b[K     |████████████████████▋           | 880kB 10.7MB/s eta 0:00:01\r\u001b[K     |████████████████████▉           | 890kB 10.7MB/s eta 0:00:01\r\u001b[K     |█████████████████████           | 901kB 10.7MB/s eta 0:00:01\r\u001b[K     |█████████████████████▎          | 911kB 10.7MB/s eta 0:00:01\r\u001b[K     |█████████████████████▌          | 921kB 10.7MB/s eta 0:00:01\r\u001b[K     |█████████████████████▊          | 931kB 10.7MB/s eta 0:00:01\r\u001b[K     |██████████████████████          | 942kB 10.7MB/s eta 0:00:01\r\u001b[K     |██████████████████████▎         | 952kB 10.7MB/s eta 0:00:01\r\u001b[K     |██████████████████████▌         | 962kB 10.7MB/s eta 0:00:01\r\u001b[K     |██████████████████████▊         | 972kB 10.7MB/s eta 0:00:01\r\u001b[K     |███████████████████████         | 983kB 10.7MB/s eta 0:00:01\r\u001b[K     |███████████████████████▏        | 993kB 10.7MB/s eta 0:00:01\r\u001b[K     |███████████████████████▍        | 1.0MB 10.7MB/s eta 0:00:01\r\u001b[K     |███████████████████████▊        | 1.0MB 10.7MB/s eta 0:00:01\r\u001b[K     |████████████████████████        | 1.0MB 10.7MB/s eta 0:00:01\r\u001b[K     |████████████████████████▏       | 1.0MB 10.7MB/s eta 0:00:01\r\u001b[K     |████████████████████████▍       | 1.0MB 10.7MB/s eta 0:00:01\r\u001b[K     |████████████████████████▋       | 1.1MB 10.7MB/s eta 0:00:01\r\u001b[K     |████████████████████████▉       | 1.1MB 10.7MB/s eta 0:00:01\r\u001b[K     |█████████████████████████       | 1.1MB 10.7MB/s eta 0:00:01\r\u001b[K     |█████████████████████████▍      | 1.1MB 10.7MB/s eta 0:00:01\r\u001b[K     |█████████████████████████▋      | 1.1MB 10.7MB/s eta 0:00:01\r\u001b[K     |█████████████████████████▉      | 1.1MB 10.7MB/s eta 0:00:01\r\u001b[K     |██████████████████████████      | 1.1MB 10.7MB/s eta 0:00:01\r\u001b[K     |██████████████████████████▎     | 1.1MB 10.7MB/s eta 0:00:01\r\u001b[K     |██████████████████████████▌     | 1.1MB 10.7MB/s eta 0:00:01\r\u001b[K     |██████████████████████████▉     | 1.1MB 10.7MB/s eta 0:00:01\r\u001b[K     |███████████████████████████     | 1.2MB 10.7MB/s eta 0:00:01\r\u001b[K     |███████████████████████████▎    | 1.2MB 10.7MB/s eta 0:00:01\r\u001b[K     |███████████████████████████▌    | 1.2MB 10.7MB/s eta 0:00:01\r\u001b[K     |███████████████████████████▊    | 1.2MB 10.7MB/s eta 0:00:01\r\u001b[K     |████████████████████████████    | 1.2MB 10.7MB/s eta 0:00:01\r\u001b[K     |████████████████████████████▏   | 1.2MB 10.7MB/s eta 0:00:01\r\u001b[K     |████████████████████████████▌   | 1.2MB 10.7MB/s eta 0:00:01\r\u001b[K     |████████████████████████████▊   | 1.2MB 10.7MB/s eta 0:00:01\r\u001b[K     |█████████████████████████████   | 1.2MB 10.7MB/s eta 0:00:01\r\u001b[K     |█████████████████████████████▏  | 1.2MB 10.7MB/s eta 0:00:01\r\u001b[K     |█████████████████████████████▍  | 1.3MB 10.7MB/s eta 0:00:01\r\u001b[K     |█████████████████████████████▋  | 1.3MB 10.7MB/s eta 0:00:01\r\u001b[K     |██████████████████████████████  | 1.3MB 10.7MB/s eta 0:00:01\r\u001b[K     |██████████████████████████████▏ | 1.3MB 10.7MB/s eta 0:00:01\r\u001b[K     |██████████████████████████████▍ | 1.3MB 10.7MB/s eta 0:00:01\r\u001b[K     |██████████████████████████████▋ | 1.3MB 10.7MB/s eta 0:00:01\r\u001b[K     |██████████████████████████████▉ | 1.3MB 10.7MB/s eta 0:00:01\r\u001b[K     |███████████████████████████████ | 1.3MB 10.7MB/s eta 0:00:01\r\u001b[K     |███████████████████████████████▎| 1.3MB 10.7MB/s eta 0:00:01\r\u001b[K     |███████████████████████████████▋| 1.4MB 10.7MB/s eta 0:00:01\r\u001b[K     |███████████████████████████████▉| 1.4MB 10.7MB/s eta 0:00:01\r\u001b[K     |████████████████████████████████| 1.4MB 10.7MB/s \n",
            "\u001b[?25hRequirement already satisfied: numpy in /usr/local/lib/python3.6/dist-packages (from captum) (1.18.5)\n",
            "Requirement already satisfied: torch>=1.2 in /usr/local/lib/python3.6/dist-packages (from captum) (1.5.1+cu101)\n",
            "Requirement already satisfied: matplotlib in /usr/local/lib/python3.6/dist-packages (from captum) (3.2.2)\n",
            "Requirement already satisfied: future in /usr/local/lib/python3.6/dist-packages (from torch>=1.2->captum) (0.16.0)\n",
            "Requirement already satisfied: kiwisolver>=1.0.1 in /usr/local/lib/python3.6/dist-packages (from matplotlib->captum) (1.2.0)\n",
            "Requirement already satisfied: pyparsing!=2.0.4,!=2.1.2,!=2.1.6,>=2.0.1 in /usr/local/lib/python3.6/dist-packages (from matplotlib->captum) (2.4.7)\n",
            "Requirement already satisfied: cycler>=0.10 in /usr/local/lib/python3.6/dist-packages (from matplotlib->captum) (0.10.0)\n",
            "Requirement already satisfied: python-dateutil>=2.1 in /usr/local/lib/python3.6/dist-packages (from matplotlib->captum) (2.8.1)\n",
            "Requirement already satisfied: six in /usr/local/lib/python3.6/dist-packages (from cycler>=0.10->matplotlib->captum) (1.12.0)\n",
            "Installing collected packages: captum\n",
            "Successfully installed captum-0.2.0\n"
          ],
          "name": "stdout"
        }
      ]
    },
    {
      "cell_type": "markdown",
      "metadata": {
        "id": "19WANWB4O8IB",
        "colab_type": "text"
      },
      "source": [
        "## Enable Cuda for GPU computing"
      ]
    },
    {
      "cell_type": "code",
      "metadata": {
        "id": "sPkLsdkGO6ZO",
        "colab_type": "code",
        "colab": {
          "base_uri": "https://localhost:8080/",
          "height": 36
        },
        "outputId": "4d514481-d0d0-4989-993f-c291b3ba8233"
      },
      "source": [
        "import torch\n",
        "# Setup device\n",
        "device = torch.device(\"cuda\" if torch.cuda.is_available() else \"cpu\")\n",
        "print(device)"
      ],
      "execution_count": 3,
      "outputs": [
        {
          "output_type": "stream",
          "text": [
            "cuda\n"
          ],
          "name": "stdout"
        }
      ]
    },
    {
      "cell_type": "markdown",
      "metadata": {
        "id": "8u-mxoVP3_O4",
        "colab_type": "text"
      },
      "source": [
        "## Create paths"
      ]
    },
    {
      "cell_type": "code",
      "metadata": {
        "_cell_guid": "79c7e3d0-c299-4dcb-8224-4455121ee9b0",
        "_uuid": "d629ff2d2480ee46fbb7e2d37f6b5fab8052498a",
        "id": "WXMBesMC3_O4",
        "colab_type": "code",
        "colab": {
          "base_uri": "https://localhost:8080/",
          "height": 131
        },
        "outputId": "d9e5e981-2e43-49aa-b982-8749008cee94"
      },
      "source": [
        "# dataset_path = './dataset'\n",
        "from os import path\n",
        "from google.colab import drive\n",
        "drive.mount(\"/content/drive\")\n",
        "covid_dataset_path = \"/content/drive/My Drive/Covid_Chestray_Dataset\"\n",
        "#covid_dataset_path = \"/content/drive/.shortcut-targets-by-id/1jrhnTdvTCvooz8T_SbI3qAsDLr08pKrk/Covid_Chestray_Dataset/\""
      ],
      "execution_count": 4,
      "outputs": [
        {
          "output_type": "stream",
          "text": [
            "Go to this URL in a browser: https://accounts.google.com/o/oauth2/auth?client_id=947318989803-6bn6qk8qdgf4n4g3pfee6491hc0brc4i.apps.googleusercontent.com&redirect_uri=urn%3aietf%3awg%3aoauth%3a2.0%3aoob&response_type=code&scope=email%20https%3a%2f%2fwww.googleapis.com%2fauth%2fdocs.test%20https%3a%2f%2fwww.googleapis.com%2fauth%2fdrive%20https%3a%2f%2fwww.googleapis.com%2fauth%2fdrive.photos.readonly%20https%3a%2f%2fwww.googleapis.com%2fauth%2fpeopleapi.readonly\n",
            "\n",
            "Enter your authorization code:\n",
            "··········\n",
            "Mounted at /content/drive\n"
          ],
          "name": "stdout"
        }
      ]
    },
    {
      "cell_type": "markdown",
      "metadata": {
        "id": "m4egPi9M3_O7",
        "colab_type": "text"
      },
      "source": [
        "## Creating a Dataset"
      ]
    },
    {
      "cell_type": "code",
      "metadata": {
        "id": "Pu0t8sma3_O7",
        "colab_type": "code",
        "colab": {}
      },
      "source": [
        "classes = ['no-covid', 'covid']"
      ],
      "execution_count": 5,
      "outputs": []
    },
    {
      "cell_type": "code",
      "metadata": {
        "id": "iNzIGndH3_O-",
        "colab_type": "code",
        "colab": {}
      },
      "source": [
        "class image_dataset(Dataset):\n",
        "    \"\"\"Class creator for the x-ray dataset.\"\"\"\n",
        "\n",
        "    def __init__(self, csv_path, root_dir, transform=None, phase=None):\n",
        "        \"\"\"\n",
        "        Args:\n",
        "            csv_file (string): Path to the csv file with annotations.\n",
        "            root_dir (string): Directory with all the images.\n",
        "            transform (callable, optional): Optional transform to be applied\n",
        "                on a sample.\n",
        "        \"\"\"\n",
        "        self.df = pd.read_csv(csv_path)\n",
        "        self.root_dir = root_dir\n",
        "        self.transform = transform\n",
        "        # If not a PA view, drop the line \n",
        "        self.df.drop(self.df[self.df.view != 'PA'].index, inplace=True)\n",
        "        self.phase = phase\n",
        "\n",
        "    def __len__(self):\n",
        "        \n",
        "        return len(self.df)\n",
        "\n",
        "    def __getitem__(self, idx):\n",
        "        if torch.is_tensor(idx):\n",
        "            idx = idx.tolist()\n",
        "        \n",
        "        if self.df['finding'].iloc[idx] != 'COVID-19':\n",
        "            finding = 0\n",
        "            img_path = os.path.sep.join([covid_dataset_path, 'images', self.df['filename'].iloc[idx]])\n",
        "            image = Image.open(img_path)\n",
        "            sample = {'image': image, 'finding': finding}\n",
        "            \n",
        "            if self.transform:\n",
        "                sample = {'image': self.transform[self.phase](sample['image']), 'finding': finding}\n",
        "\n",
        "        else:\n",
        "            finding = 1\n",
        "            img_path = os.path.sep.join([covid_dataset_path, 'images', self.df['filename'].iloc[idx]])\n",
        "            image = Image.open(img_path)\n",
        "            sample = {'image': image, 'finding': finding}\n",
        "\n",
        "            if self.transform:\n",
        "                sample = {'image': self.transform[self.phase](sample['image']), 'finding': finding}\n",
        "\n",
        "        return sample"
      ],
      "execution_count": 6,
      "outputs": []
    },
    {
      "cell_type": "markdown",
      "metadata": {
        "id": "qQh_Hos_3_PD",
        "colab_type": "text"
      },
      "source": [
        "## Creating the data transformations"
      ]
    },
    {
      "cell_type": "code",
      "metadata": {
        "id": "dtqRM8gM3_PD",
        "colab_type": "code",
        "colab": {}
      },
      "source": [
        "class HistEqualization(object):\n",
        "    \"\"\"Image pre-processing.\n",
        "\n",
        "    Equalize the image historgram\n",
        "    \"\"\"\n",
        "    \n",
        "    def __call__(self,image):\n",
        "        \n",
        "        return ImageOps.equalize(image, mask = None) "
      ],
      "execution_count": 7,
      "outputs": []
    },
    {
      "cell_type": "code",
      "metadata": {
        "id": "i5aqJtWe3_PG",
        "colab_type": "code",
        "colab": {}
      },
      "source": [
        "class ContrastBrightness(object):\n",
        "    \"\"\"Image pre-processing.\n",
        "\n",
        "    alpha = 1.0 # Simple contrast control [1.0-3.0]\n",
        "    beta = 0    # Simple brightness control [0-100]\n",
        "    \"\"\"\n",
        "    \n",
        "    def __init__(self, alpha, beta):\n",
        "        self.alpha = alpha\n",
        "        self.beta = beta\n",
        "    \n",
        "    def __call__(self,image,):\n",
        "        image = np.array(image)\n",
        "        for y in range(image.shape[0]):\n",
        "            for x in range(image.shape[1]):\n",
        "                image[y,x] = np.clip(self.alpha*image[y,x] + self.beta, 0, 255)\n",
        "\n",
        "                return Image.fromarray(np.uint8(image)*255)"
      ],
      "execution_count": 8,
      "outputs": []
    },
    {
      "cell_type": "code",
      "metadata": {
        "id": "aTjRjl2K3_PI",
        "colab_type": "code",
        "colab": {}
      },
      "source": [
        "class SmoothImage(object):\n",
        "    \"\"\"Image pre-processing.\n",
        "\n",
        "    Smooth the image\n",
        "    \"\"\"\n",
        "    def __call__(self,image):\n",
        "        \n",
        "        return image.filter(ImageFilter.SMOOTH_MORE)"
      ],
      "execution_count": 9,
      "outputs": []
    },
    {
      "cell_type": "code",
      "metadata": {
        "id": "KBYZhdJM3_PK",
        "colab_type": "code",
        "colab": {}
      },
      "source": [
        "# Data augmentation and normalization for training\n",
        "# Just normalization for validation\n",
        "data_transforms = {\n",
        "    'train': transforms.Compose([\n",
        "        transforms.Grayscale(3),\n",
        "        transforms.RandomRotation(30),\n",
        "        transforms.RandomResizedCrop(224),\n",
        "        transforms.Resize(240),\n",
        "        transforms.RandomCrop(224),\n",
        "        transforms.RandomHorizontalFlip(),\n",
        "        ContrastBrightness(1.2,25),\n",
        "        HistEqualization(),\n",
        "        SmoothImage(),\n",
        "        transforms.ToTensor(),\n",
        "        transforms.Normalize([0.5,0.5,0.5],\n",
        "                             [0.25,0.25,0.25])\n",
        "    ]),\n",
        "    'test': transforms.Compose([\n",
        "        transforms.Grayscale(3),\n",
        "        transforms.Resize(240),\n",
        "        transforms.CenterCrop(224),\n",
        "        ContrastBrightness(1.2,25),\n",
        "        HistEqualization(),\n",
        "        SmoothImage(),\n",
        "        transforms.ToTensor(),\n",
        "        transforms.Normalize([0.5,0.5,0.5],\n",
        "                             [0.25,0.25,0.25])\n",
        "    ]),\n",
        "}"
      ],
      "execution_count": 10,
      "outputs": []
    },
    {
      "cell_type": "markdown",
      "metadata": {
        "id": "O0UtI_Kn3_Pa",
        "colab_type": "text"
      },
      "source": [
        "## Create a train, validation and test dataset and the dataloaders"
      ]
    },
    {
      "cell_type": "code",
      "metadata": {
        "id": "g7ORci2MYP8Y",
        "colab_type": "code",
        "colab": {}
      },
      "source": [
        "from torch.utils.data import DataLoader, Subset\n",
        "# Import images as Dataset\n",
        "image_datasets = {\n",
        "    x: image_dataset(\n",
        "        csv_path=os.path.sep.join([covid_dataset_path, 'metadata.csv']),\n",
        "        root_dir=covid_dataset_path,\n",
        "        transform=data_transforms,\n",
        "        phase=x)\n",
        "    for x in ['train', 'test']\n",
        "}"
      ],
      "execution_count": 11,
      "outputs": []
    },
    {
      "cell_type": "code",
      "metadata": {
        "id": "eAtaJkOqPT-H",
        "colab_type": "code",
        "colab": {}
      },
      "source": [
        "\"\"\"Ratio Train -> 70%, Val -> 15%, Test -> 15%\"\"\"\n",
        "total_len = len(image_datasets['train'])\n",
        "\n",
        "# Fractions\n",
        "train_frac = 0.7\n",
        "val_frac = 0.15\n",
        "test_frac = 0.15\n",
        "# Compute number of samples\n",
        "num_train = int(total_len * train_frac)\n",
        "num_val = int(total_len * val_frac)\n",
        "num_test = int(total_len * test_frac)\n",
        "# Indexes \n",
        "indexes = list(range(total_len))\n",
        "# Split training set\n",
        "train_idx = indexes[:num_train]\n",
        "val_idx = indexes[num_train : num_train + num_val]\n",
        "test_idx = indexes[num_train + num_val:]"
      ],
      "execution_count": 12,
      "outputs": []
    },
    {
      "cell_type": "code",
      "metadata": {
        "id": "_bSC5TTp3_Pb",
        "colab_type": "code",
        "colab": {}
      },
      "source": [
        "#Create train , val and test dataset and loaders as subset of image dataset\n",
        "train_dataset = Subset(image_datasets['train'], train_idx)\n",
        "val_dataset = Subset(image_datasets['test'], val_idx)\n",
        "test_dataset = Subset(image_datasets['test'], test_idx)\n",
        "\n",
        "train_loader = DataLoader(train_dataset, batch_size=4, num_workers=4, shuffle=True)\n",
        "val_loader   = DataLoader(val_dataset,   batch_size=4, num_workers=4, shuffle=False)\n",
        "test_loader  = DataLoader(test_dataset,  batch_size=4, num_workers=4, shuffle=False)\n",
        "\n",
        "loaders = {\"train\": train_loader,\n",
        "           \"val\": val_loader,\n",
        "           \"test\": test_loader}\n",
        "\n",
        "dataset_sizes = {x: len(loaders[x].dataset) for x in ['train', 'val', 'test']}"
      ],
      "execution_count": 13,
      "outputs": []
    },
    {
      "cell_type": "code",
      "metadata": {
        "id": "lGNF0ZYjYhhk",
        "colab_type": "code",
        "colab": {
          "base_uri": "https://localhost:8080/",
          "height": 36
        },
        "outputId": "21e214fd-a5c8-4965-a0dd-e37918c67005"
      },
      "source": [
        "print(dataset_sizes)"
      ],
      "execution_count": 14,
      "outputs": [
        {
          "output_type": "stream",
          "text": [
            "{'train': 212, 'val': 45, 'test': 46}\n"
          ],
          "name": "stdout"
        }
      ]
    },
    {
      "cell_type": "markdown",
      "metadata": {
        "id": "f25ZENvp3_Pd",
        "colab_type": "text"
      },
      "source": [
        "## Create a train method"
      ]
    },
    {
      "cell_type": "code",
      "metadata": {
        "id": "XSHlu93A3_Pd",
        "colab_type": "code",
        "colab": {}
      },
      "source": [
        "def train_model(model, criterion, optimizer, scheduler, num_epochs=25, device='cpu'):\n",
        "    \"\"\"\n",
        "    Support function for model training.\n",
        "\n",
        "    Args:\n",
        "      model: Model to be trained\n",
        "      criterion: Optimization criterion (loss)\n",
        "      optimizer: Optimizer to use for training\n",
        "      scheduler: Instance of ``torch.optim.lr_scheduler``\n",
        "      num_epochs: Number of epochs\n",
        "      device: Device to run the training on. Must be 'cpu' or 'cuda'\n",
        "    \"\"\"\n",
        "    since = time.time()\n",
        "\n",
        "    #best_model_wts = copy.deepcopy(model.state_dict())\n",
        "    best_acc = 0.0\n",
        "\n",
        "\n",
        "    try:\n",
        "      for epoch in range(num_epochs):\n",
        "          sum_loss = {\"train\": 0, \"val\": 0, \"test\": 0}\n",
        "          sum_accuracy = {\"train\": 0, \"val\": 0, \"test\": 0}\n",
        "          print('Epoch {}/{}'.format(epoch+1, num_epochs))\n",
        "          print('-' * 10)\n",
        "\n",
        "          # Each epoch has a training and validation phase\n",
        "          for phase in ['train', 'val', 'test']:\n",
        "              if phase == 'train':\n",
        "                  model.train()  # Set model to training mode\n",
        "              else:\n",
        "                  model.eval()   # Set model to evaluate mode\n",
        "\n",
        "              # Iterate over data.\n",
        "              for data in loaders[phase]:\n",
        "                  inputs = data['image']\n",
        "                  labels = data['finding']\n",
        "                  inputs = inputs.to(device)\n",
        "                  labels = labels.to(device)\n",
        "                  # zero the parameter gradients\n",
        "                  optimizer.zero_grad()\n",
        "                  # forward\n",
        "                  # track history if only in train\n",
        "                  #with torch.set_grad_enabled(phase == 'train'):\n",
        "                  outputs = model(inputs)\n",
        "                  _, preds = torch.max(outputs, 1)\n",
        "\n",
        "                  loss = criterion(preds.float(), labels.float())\n",
        "                  loss = Variable(loss, requires_grad = True)\n",
        "                  # backward + optimize only if in training phase\n",
        "                  if phase == 'train':\n",
        "                      loss.backward()\n",
        "                      optimizer.step()\n",
        "                  # statistics\n",
        "                  sum_loss[phase] += loss.item() * inputs.size(0)              \n",
        "                  sum_accuracy[phase] += torch.sum(preds == labels.data)\n",
        "\n",
        "              if phase == 'train' and scheduler is not None:\n",
        "                  scheduler.step()\n",
        "\n",
        "              epoch_loss = sum_loss[phase] / dataset_sizes[phase]\n",
        "              epoch_acc = sum_accuracy[phase].double() / dataset_sizes[phase]\n",
        "              print('{} Loss: {:.4f} Acc: {:.4f}'.format(phase, epoch_loss, epoch_acc))\n",
        "              # deep copy the model\n",
        "              if phase == 'val' and epoch_acc > best_acc:\n",
        "                  best_acc = epoch_acc\n",
        "                  #best_model_wts = copy.deepcopy(model.state_dict())\n",
        "\n",
        "          epoch_loss_phase = {split: sum_loss[split]/dataset_sizes[split] for split in [\"train\", \"val\", \"test\"]}\n",
        "          epoch_accuracy_phase = {split: sum_accuracy[split].double()/dataset_sizes[split] for split in [\"train\", \"val\", \"test\"]}  \n",
        "\n",
        "          for split in [\"train\", \"val\", \"test\"]:\n",
        "            history_loss[split].append(epoch_loss_phase[split])\n",
        "            history_accuracy[split].append(epoch_accuracy_phase[split])\n",
        "          print('-' * 30)\n",
        "    except KeyboardInterrupt:\n",
        "      print(f\"Computation Stopped at epoch : {epoch+1}\")\n",
        "    except Exception as e:\n",
        "      print(e)\n",
        "    finally:\n",
        "      time_elapsed = time.time() - since\n",
        "      print(\"-----------------------------------------\")\n",
        "      print('Training complete in {:.0f}m {:.0f}s'.format(time_elapsed // 60, time_elapsed % 60))\n",
        "      print('Best validation Acc: {:4f}'.format(best_acc))\n",
        "      # load best model weights\n",
        "      #model.load_state_dict(best_model_wts)\n",
        "      return model"
      ],
      "execution_count": 15,
      "outputs": []
    },
    {
      "cell_type": "markdown",
      "metadata": {
        "id": "GtFeYFE_3_Pf",
        "colab_type": "text"
      },
      "source": [
        "## CNNs for classification\n",
        "\n",
        "### Case 1 : From scratch model"
      ]
    },
    {
      "cell_type": "markdown",
      "metadata": {
        "id": "Z6Fp5GCRQRN8",
        "colab_type": "text"
      },
      "source": [
        "## Case 1: From Scratch model training"
      ]
    },
    {
      "cell_type": "markdown",
      "metadata": {
        "id": "kkuTIZQytBg6",
        "colab_type": "text"
      },
      "source": [
        "### Define Model"
      ]
    },
    {
      "cell_type": "code",
      "metadata": {
        "id": "aCzg0Gj0uQld",
        "colab_type": "code",
        "colab": {}
      },
      "source": [
        "# Imports\n",
        "import torch.nn as nn\n",
        "import torch.nn.functional as F\n",
        "\n",
        "# Define model\n",
        "class ModelFromScratch(nn.Module):\n",
        "    def __init__(self):\n",
        "        \n",
        "        super().__init__();\n",
        "\n",
        "        self.conv_layers = nn.Sequential(\n",
        "            # Layer 1\n",
        "            nn.Conv2d(3, 64, kernel_size=3, padding=0, stride=1),\n",
        "            nn.ReLU(),\n",
        "            nn.BatchNorm2d(64),\n",
        "            # Layer 2\n",
        "            nn.Conv2d(64, 128, kernel_size=3, padding=0, stride=1),\n",
        "            nn.ReLU(),\n",
        "            nn.BatchNorm2d(128),\n",
        "            # Layer 3\n",
        "            nn.Conv2d(128, 128, kernel_size=3, padding=0, stride=1),\n",
        "            nn.ReLU(),\n",
        "            nn.BatchNorm2d(128),\n",
        "            nn.MaxPool2d(kernel_size=2, stride=2),\n",
        "            # Layer 4\n",
        "            nn.Conv2d(128, 256, kernel_size=3, padding=0, stride=1),\n",
        "            nn.ReLU(),\n",
        "            nn.BatchNorm2d(256),\n",
        "            nn.MaxPool2d(kernel_size=2, stride=2),\n",
        "            # Layer 5\n",
        "            nn.Conv2d(256, 256, kernel_size=5, padding=0, stride=2),\n",
        "            nn.ReLU(),\n",
        "            nn.BatchNorm2d(256),\n",
        "            nn.MaxPool2d(kernel_size=4, stride=2),\n",
        "            # Layer 6\n",
        "            nn.Conv2d(256, 512, kernel_size=5, padding=0, stride=2),\n",
        "            nn.ReLU(),\n",
        "            nn.BatchNorm2d(512),\n",
        "            nn.MaxPool2d(kernel_size=4, stride=2),\n",
        "        )\n",
        "\n",
        "        self.fc_layers = nn.Sequential(\n",
        "            # FC layer\n",
        "            nn.Linear(512, 256),\n",
        "            nn.Dropout(0.5),\n",
        "            nn.ReLU(),\n",
        "            # Classification layer\n",
        "            nn.Linear(256, len(classes))\n",
        "        )\n",
        "\n",
        "    def forward(self, x):\n",
        "        x = self.conv_layers(x)\n",
        "        x = x.view(x.size(0), -1)\n",
        "        x = self.fc_layers(x)\n",
        "        return x"
      ],
      "execution_count": 16,
      "outputs": []
    },
    {
      "cell_type": "code",
      "metadata": {
        "id": "9dKh4VipuWrX",
        "colab_type": "code",
        "colab": {
          "base_uri": "https://localhost:8080/",
          "height": 54
        },
        "outputId": "096c8365-191b-420c-b88f-4873878077af"
      },
      "source": [
        "# Create model\n",
        "model_fs = ModelFromScratch()\n",
        "\n",
        "# Test model output\n",
        "model_fs.eval()\n",
        "print(train_dataset.dataset)\n",
        "test_input = train_dataset[0]['image'].unsqueeze(0)\n",
        "\n",
        "print(\"Model output size:\", model_fs(test_input).size())\n",
        "\n",
        "# Move model to device\n",
        "model_fs = model_fs.to(device)"
      ],
      "execution_count": 17,
      "outputs": [
        {
          "output_type": "stream",
          "text": [
            "<__main__.image_dataset object at 0x7ffb58d91ba8>\n",
            "Model output size: torch.Size([1, 2])\n"
          ],
          "name": "stdout"
        }
      ]
    },
    {
      "cell_type": "markdown",
      "metadata": {
        "id": "9Lg32MKhtGaD",
        "colab_type": "text"
      },
      "source": [
        "### Train model"
      ]
    },
    {
      "cell_type": "code",
      "metadata": {
        "id": "iQBLtqF1ubAK",
        "colab_type": "code",
        "colab": {}
      },
      "source": [
        "#criterion = nn.CrossEntropyLoss()\n",
        "criterion = nn.BCEWithLogitsLoss()\n",
        "\n",
        "# Note that we are only training the head.\n",
        "optimizer_ft = optim.Adam(model_fs.parameters(), lr=1e-4)\n",
        "\n",
        "# Decay LR by a factor of 0.1 every 7 epochs\n",
        "#exp_lr_scheduler = optim.lr_scheduler.StepLR(optimizer_ft, step_size=7, gamma=0.3)"
      ],
      "execution_count": 18,
      "outputs": []
    },
    {
      "cell_type": "code",
      "metadata": {
        "id": "pvzjr2gjKaSR",
        "colab_type": "code",
        "colab": {}
      },
      "source": [
        "history_loss = {\"train\": [], \"val\": [], \"test\": []}\n",
        "history_accuracy = {\"train\": [], \"val\": [], \"test\": []}"
      ],
      "execution_count": 19,
      "outputs": []
    },
    {
      "cell_type": "code",
      "metadata": {
        "id": "r7nn42urub0T",
        "colab_type": "code",
        "colab": {
          "base_uri": "https://localhost:8080/",
          "height": 354
        },
        "outputId": "26f1173b-5413-4125-d555-2a60a3006b35"
      },
      "source": [
        "model_fs_trained = train_model(model_fs.to(device), criterion, optimizer_ft, None ,num_epochs=50, device=device)"
      ],
      "execution_count": 20,
      "outputs": [
        {
          "output_type": "stream",
          "text": [
            "Epoch 1/50\n",
            "----------\n",
            "train Loss: 0.6288 Acc: 0.5189\n",
            "val Loss: 0.8101 Acc: 0.4000\n",
            "test Loss: 0.7984 Acc: 0.4348\n",
            "------------------------------\n",
            "Epoch 2/50\n",
            "----------\n",
            "train Loss: 0.6294 Acc: 0.5142\n",
            "val Loss: 0.6950 Acc: 0.6889\n",
            "test Loss: 0.7258 Acc: 0.5435\n",
            "------------------------------\n",
            "Epoch 3/50\n",
            "----------\n",
            "Computation Stopped at epoch : 3\n",
            "-----------------------------------------\n",
            "Training complete in 1m 22s\n",
            "Best validation Acc: 0.688889\n"
          ],
          "name": "stdout"
        }
      ]
    },
    {
      "cell_type": "code",
      "metadata": {
        "id": "SqheWN-R6ptD",
        "colab_type": "code",
        "colab": {}
      },
      "source": [
        "torch.cuda.empty_cache() "
      ],
      "execution_count": null,
      "outputs": []
    },
    {
      "cell_type": "code",
      "metadata": {
        "id": "WYmsZRJIvAHU",
        "colab_type": "code",
        "colab": {
          "base_uri": "https://localhost:8080/",
          "height": 545
        },
        "outputId": "92561190-3a17-4626-ec18-5712d3f3b4b3"
      },
      "source": [
        "# Plot loss history\n",
        "plt.title(\"Loss\")\n",
        "for split in [\"train\", \"val\", \"test\"]:\n",
        "  plt.plot(history_loss[split], label=split)\n",
        "plt.legend()\n",
        "plt.show()\n",
        "\n",
        "# Plot accuracy history\n",
        "plt.title(\"Accuracy\")\n",
        "for split in [\"train\", \"val\", \"test\"]:\n",
        "  plt.plot(history_accuracy[split], label=split)\n",
        "plt.legend()\n",
        "plt.show()"
      ],
      "execution_count": 21,
      "outputs": [
        {
          "output_type": "display_data",
          "data": {
            "image/png": "[encoded data removed]",
            "text/plain": [
              "<Figure size 432x288 with 1 Axes>"
            ]
          },
          "metadata": {
            "tags": [],
            "needs_background": "light"
          }
        },
        {
          "output_type": "display_data",
          "data": {
            "image/png": "[encoded data removed]",
            "text/plain": [
              "<Figure size 432x288 with 1 Axes>"
            ]
          },
          "metadata": {
            "tags": [],
            "needs_background": "light"
          }
        }
      ]
    },
    {
      "cell_type": "markdown",
      "metadata": {
        "id": "lQpHVHYmtQFf",
        "colab_type": "text"
      },
      "source": [
        "### Model Evaluation"
      ]
    },
    {
      "cell_type": "code",
      "metadata": {
        "id": "2b0jcUKINFrY",
        "colab_type": "code",
        "colab": {
          "base_uri": "https://localhost:8080/",
          "height": 129
        },
        "outputId": "3c9ed8e9-f5d8-482c-e132-2035b9216060"
      },
      "source": [
        "# Evaluate the model \n",
        "print(\"Evaluation Metrics :\")\n",
        "testAccuracy(model_fs_trained,loaders,device)\n",
        "print(\"-\"*30)\n",
        "testCovid(model_fs_trained,loaders,device)\n",
        "print(\"-\"*30)"
      ],
      "execution_count": 28,
      "outputs": [
        {
          "output_type": "stream",
          "text": [
            "Evaluation Metrics :\n",
            "Accuracy of the network: 54 %\n",
            "------------------------------\n",
            "Accuracy of no-covid : 50 %\n",
            "Accuracy of covid : 58 %\n",
            "------------------------------\n"
          ],
          "name": "stdout"
        }
      ]
    },
    {
      "cell_type": "code",
      "metadata": {
        "id": "Plte8ss26A4a",
        "colab_type": "code",
        "colab": {
          "base_uri": "https://localhost:8080/",
          "height": 605
        },
        "outputId": "d531b30a-50d8-4a69-b432-3f31306a391c"
      },
      "source": [
        "attr = modelInterpretation(device,model_fs_trained)"
      ],
      "execution_count": 31,
      "outputs": [
        {
          "output_type": "display_data",
          "data": {
            "image/png": "[encoded data removed]",
            "text/plain": [
              "<Figure size 432x288 with 1 Axes>"
            ]
          },
          "metadata": {
            "tags": [],
            "needs_background": "light"
          }
        },
        {
          "output_type": "display_data",
          "data": {
            "image/png": "[encoded data removed]",
            "text/plain": [
              "<Figure size 432x432 with 2 Axes>"
            ]
          },
          "metadata": {
            "tags": [],
            "needs_background": "light"
          }
        }
      ]
    },
    {
      "cell_type": "markdown",
      "metadata": {
        "id": "AA29DjZNA2eC",
        "colab_type": "text"
      },
      "source": [
        "### Adversarial attack FGSM"
      ]
    },
    {
      "cell_type": "code",
      "metadata": {
        "id": "ewD3Y1r83qgW",
        "colab_type": "code",
        "colab": {}
      },
      "source": [
        "attack_test_loader  = DataLoader(test_dataset,  batch_size=1, num_workers=4, shuffle=False)"
      ],
      "execution_count": 32,
      "outputs": []
    },
    {
      "cell_type": "code",
      "metadata": {
        "id": "QZMxm3cwA7pc",
        "colab_type": "code",
        "colab": {}
      },
      "source": [
        "epsilons = [0, .05, .1, .15, .2, .25, .3]"
      ],
      "execution_count": 33,
      "outputs": []
    },
    {
      "cell_type": "code",
      "metadata": {
        "id": "OEFBlRJBBB0d",
        "colab_type": "code",
        "colab": {}
      },
      "source": [
        "# FGSM attack code\n",
        "def fgsm_attack(image, epsilon, data_grad):\n",
        "    # Collect the element-wise sign of the data gradient\n",
        "    sign_data_grad = data_grad.sign()\n",
        "    # Create the perturbed image by adjusting each pixel of the input image\n",
        "    perturbed_image = image + epsilon*sign_data_grad\n",
        "    # Adding clipping to maintain [0,1] range\n",
        "    perturbed_image = torch.clamp(perturbed_image, 0, 1)\n",
        "    # Return the perturbed image\n",
        "    return perturbed_image"
      ],
      "execution_count": 34,
      "outputs": []
    },
    {
      "cell_type": "code",
      "metadata": {
        "id": "sHHvR0IIBFSd",
        "colab_type": "code",
        "colab": {}
      },
      "source": [
        "def test( model, device, test_loader, epsilon ):\n",
        "\n",
        "    # Accuracy counter\n",
        "    correct = 0\n",
        "    adv_examples = []\n",
        "\n",
        "    # Loop over all examples in test set\n",
        "    for datas in test_loader:\n",
        "\n",
        "        data = datas['image']\n",
        "        target = datas['finding']\n",
        "\n",
        "        # Send the data and label to the device\n",
        "        data, target = data.to(device).requires_grad_(), target.to(device)\n",
        "\n",
        "        # Set requires_grad attribute of tensor. Important for Attack\n",
        "        data.requires_grad = True\n",
        "\n",
        "        # Forward pass the data through the model\n",
        "        output = model(data)\n",
        "        init_pred = output.max(1, keepdim=True)[1] # get the index of the max log-probability\n",
        "\n",
        "        # If the initial prediction is wrong, dont bother attacking, just move on\n",
        "        if init_pred.item() != target.item():\n",
        "            continue\n",
        "\n",
        "        # Calculate the loss\n",
        "        loss = F.nll_loss(output, target)\n",
        "\n",
        "        # Zero all existing gradients\n",
        "        model.zero_grad()\n",
        "\n",
        "        # Calculate gradients of model in backward pass\n",
        "        loss.backward()\n",
        "\n",
        "        # Collect datagrad\n",
        "        data_grad = data.grad.data\n",
        "\n",
        "        # Call FGSM Attack\n",
        "        perturbed_data = fgsm_attack(data, epsilon, data_grad)\n",
        "\n",
        "        # Re-classify the perturbed image\n",
        "        output = model(perturbed_data)\n",
        "\n",
        "        # Check for success\n",
        "        final_pred = output.max(1, keepdim=True)[1] # get the index of the max log-probability\n",
        "        if final_pred.item() == target.item():\n",
        "            correct += 1\n",
        "            # Special case for saving 0 epsilon examples\n",
        "            if (epsilon == 0) and (len(adv_examples) < 5):\n",
        "                adv_ex = perturbed_data.squeeze().detach().cpu().numpy()\n",
        "                adv_examples.append( (init_pred.item(), final_pred.item(), adv_ex) )\n",
        "        else:\n",
        "            # Save some adv examples for visualization later\n",
        "            if len(adv_examples) < 5:\n",
        "                adv_ex = perturbed_data.squeeze().detach().cpu().numpy()\n",
        "                adv_examples.append( (init_pred.item(), final_pred.item(), adv_ex) )\n",
        "\n",
        "    # Calculate final accuracy for this epsilon\n",
        "    final_acc = correct/float(len(test_loader))\n",
        "    print(\"Epsilon: {}\\tTest Accuracy = {} / {} = {:.4f}\".format(epsilon, correct, len(test_loader), final_acc))\n",
        "\n",
        "    # Return the accuracy and an adversarial example\n",
        "    return final_acc, adv_examples"
      ],
      "execution_count": 35,
      "outputs": []
    },
    {
      "cell_type": "code",
      "metadata": {
        "id": "Y-2e_wwbBL7D",
        "colab_type": "code",
        "colab": {
          "base_uri": "https://localhost:8080/",
          "height": 148
        },
        "outputId": "04f38bb4-41dd-4694-b7b1-b7c21aea6688"
      },
      "source": [
        "accuracies = []\n",
        "examples = []\n",
        "\n",
        "# Run test for each epsilon\n",
        "for eps in epsilons:\n",
        "    acc, ex = test(model_fs_trained, device, attack_test_loader, eps)\n",
        "    accuracies.append(acc)\n",
        "    examples.append(ex)"
      ],
      "execution_count": 36,
      "outputs": [
        {
          "output_type": "stream",
          "text": [
            "Epsilon: 0\tTest Accuracy = 11 / 46 = 0.2391\n",
            "Epsilon: 0.05\tTest Accuracy = 10 / 46 = 0.2174\n",
            "Epsilon: 0.1\tTest Accuracy = 14 / 46 = 0.3043\n",
            "Epsilon: 0.15\tTest Accuracy = 17 / 46 = 0.3696\n",
            "Epsilon: 0.2\tTest Accuracy = 17 / 46 = 0.3696\n",
            "Epsilon: 0.25\tTest Accuracy = 16 / 46 = 0.3478\n",
            "Epsilon: 0.3\tTest Accuracy = 15 / 46 = 0.3261\n"
          ],
          "name": "stdout"
        }
      ]
    },
    {
      "cell_type": "code",
      "metadata": {
        "id": "B3rpm4iWBOgK",
        "colab_type": "code",
        "colab": {
          "base_uri": "https://localhost:8080/",
          "height": 350
        },
        "outputId": "e02e82c4-f651-405b-aba5-a10bdd3a920d"
      },
      "source": [
        "plt.figure(figsize=(5,5))\n",
        "plt.plot(epsilons, accuracies, \"*-\")\n",
        "plt.yticks(np.arange(0, 1.1, step=0.1))\n",
        "plt.xticks(np.arange(0, .35, step=0.05))\n",
        "plt.title(\"Accuracy vs Epsilon\")\n",
        "plt.xlabel(\"Epsilon\")\n",
        "plt.ylabel(\"Accuracy\")\n",
        "plt.show()"
      ],
      "execution_count": 37,
      "outputs": [
        {
          "output_type": "display_data",
          "data": {
            "image/png": "[encoded data removed]",
            "text/plain": [
              "<Figure size 360x360 with 1 Axes>"
            ]
          },
          "metadata": {
            "tags": [],
            "needs_background": "light"
          }
        }
      ]
    },
    {
      "cell_type": "markdown",
      "metadata": {
        "id": "1ST2ciIHBnAi",
        "colab_type": "text"
      },
      "source": [
        "## Case 2 : Adversarial Training"
      ]
    },
    {
      "cell_type": "markdown",
      "metadata": {
        "id": "xaiT8HXaCTts",
        "colab_type": "text"
      },
      "source": [
        "### Adversarial Dataset"
      ]
    },
    {
      "cell_type": "code",
      "metadata": {
        "id": "Fmgav0_0ClOo",
        "colab_type": "code",
        "colab": {}
      },
      "source": [
        ""
      ],
      "execution_count": null,
      "outputs": []
    },
    {
      "cell_type": "markdown",
      "metadata": {
        "id": "RaEqkpyRCW_2",
        "colab_type": "text"
      },
      "source": [
        "### Training and Fine tuning"
      ]
    },
    {
      "cell_type": "code",
      "metadata": {
        "id": "lrs3fMkuDBEw",
        "colab_type": "code",
        "colab": {}
      },
      "source": [
        "#criterion = nn.CrossEntropyLoss()\n",
        "criterion = nn.BCEWithLogitsLoss()\n",
        "\n",
        "# Note that we are only training the head.\n",
        "optimizer_ft = optim.Adam(model_fs.parameters(), lr=1e-4)"
      ],
      "execution_count": null,
      "outputs": []
    },
    {
      "cell_type": "code",
      "metadata": {
        "id": "-e6VtWRcDraD",
        "colab_type": "code",
        "colab": {}
      },
      "source": [
        "history_loss = {\"train\": [], \"val\": [], \"test\": []}\n",
        "history_accuracy = {\"train\": [], \"val\": [], \"test\": []}"
      ],
      "execution_count": null,
      "outputs": []
    },
    {
      "cell_type": "code",
      "metadata": {
        "id": "ssIPd0SbDuJT",
        "colab_type": "code",
        "colab": {}
      },
      "source": [
        "model_fs_attack = train_model(model_fs_trained.to(device), criterion, optimizer_ft, None ,num_epochs=50, device=device)"
      ],
      "execution_count": null,
      "outputs": []
    },
    {
      "cell_type": "markdown",
      "metadata": {
        "id": "ZYBJ5qouCcCZ",
        "colab_type": "text"
      },
      "source": [
        "### Model Evaluation"
      ]
    },
    {
      "cell_type": "code",
      "metadata": {
        "id": "Nj9yYwpxDBiM",
        "colab_type": "code",
        "colab": {}
      },
      "source": [
        "# Evaluate the model \n",
        "print(\"Evaluation Metrics :\")\n",
        "testAccuracy(model_fs_attack,loaders,device)\n",
        "print(\"-\"*30)\n",
        "testCovid(model_fs_attack,loaders,device)\n",
        "print(\"-\"*30)"
      ],
      "execution_count": null,
      "outputs": []
    },
    {
      "cell_type": "code",
      "metadata": {
        "id": "75_EDjQwDQTv",
        "colab_type": "code",
        "colab": {}
      },
      "source": [
        "attr_attack = modelInterpretation(device,model_fs_attack)"
      ],
      "execution_count": null,
      "outputs": []
    },
    {
      "cell_type": "markdown",
      "metadata": {
        "id": "ZYPcNtiiCxWU",
        "colab_type": "text"
      },
      "source": [
        "## Adversarial Image Creation"
      ]
    },
    {
      "cell_type": "code",
      "metadata": {
        "id": "GVh-gqf0C60x",
        "colab_type": "code",
        "colab": {
          "base_uri": "https://localhost:8080/",
          "height": 36
        },
        "outputId": "122bc84d-f082-489f-da23-d5d531bc6753"
      },
      "source": [
        "from torchvision.utils import save_image\n",
        "\n",
        "epsilon = 0.025\n",
        "covid_adv_path = path.join(\"/content/drive/My Drive/\", \"Covid_Chestray_Dataset_Adversarial/adv_images\")\n",
        "\n",
        "image_dataset_train = image_dataset(\n",
        "        csv_path=os.path.sep.join([covid_dataset_path, 'metadata.csv']),\n",
        "        root_dir=covid_dataset_path,\n",
        "        transform= {'train': transforms.Compose([\n",
        "          transforms.Grayscale(3),\n",
        "          transforms.Resize(240),\n",
        "          transforms.CenterCrop(224),\n",
        "          transforms.ToTensor(),\n",
        "    ])},\n",
        "        phase='train')\n",
        "\n",
        "train_dataset = Subset(image_dataset_train, train_idx)\n",
        "train_loader = DataLoader(train_dataset, batch_size=1, num_workers=4, shuffle=True)\n",
        "len(train_loader)"
      ],
      "execution_count": 63,
      "outputs": [
        {
          "output_type": "execute_result",
          "data": {
            "text/plain": [
              "212"
            ]
          },
          "metadata": {
            "tags": []
          },
          "execution_count": 63
        }
      ]
    },
    {
      "cell_type": "code",
      "metadata": {
        "id": "YiDJXvreSXGX",
        "colab_type": "code",
        "colab": {}
      },
      "source": [
        "metadata_path = path.join(\"/content/drive/My Drive/\", \"Covid_Chestray_Dataset_Adversarial/adv_metadata.csv\")\n",
        "\n",
        "df = pd.DataFrame([], columns=['filename', 'finding'])\n"
      ],
      "execution_count": 90,
      "outputs": []
    },
    {
      "cell_type": "code",
      "metadata": {
        "id": "aEe3MFXBEWtJ",
        "colab_type": "code",
        "colab": {}
      },
      "source": [
        "for i, datas in enumerate(train_loader):\n",
        "\n",
        "    data = datas['image']\n",
        "    target = datas['finding']\n",
        "\n",
        "    # Send the data and label to the device\n",
        "    data, target = data.to(device).requires_grad_(), target.to(device)\n",
        "\n",
        "    # Set requires_grad attribute of tensor. Important for Attack\n",
        "    data.requires_grad = True\n",
        "\n",
        "    # Forward pass the data through the model\n",
        "    output = model_fs_trained(data)\n",
        "\n",
        "    # Calculate the loss\n",
        "    loss = F.nll_loss(output, target)\n",
        "\n",
        "    # Zero all existing gradients\n",
        "    model_fs_trained.zero_grad()\n",
        "\n",
        "    # Calculate gradients of model in backward pass\n",
        "    loss.backward()\n",
        "\n",
        "    # Collect datagrad\n",
        "    data_grad = data.grad.data\n",
        "\n",
        "    # Call FGSM Attack\n",
        "    perturbed_data = fgsm_attack(data, epsilon, data_grad)\n",
        "    img_name = \"adv_img\" + str(i) + \".png\"\n",
        "\n",
        "    if target == 0:\n",
        "      finding = 'COVID-19'\n",
        "    else:\n",
        "      finding = 'NO-COVID-19'\n",
        "\n",
        "    new_row = {'filename': img_name, 'finding':finding}\n",
        "    df = df.append(new_row, ignore_index=True)\n",
        "\n",
        "    save_image(perturbed_data, path.join(covid_adv_path, img_name))\n",
        "df.to_csv(metadata_path)"
      ],
      "execution_count": 91,
      "outputs": []
    },
    {
      "cell_type": "markdown",
      "metadata": {
        "id": "cSOfHBLP5bS8",
        "colab_type": "text"
      },
      "source": [
        "## Interpretability Function"
      ]
    },
    {
      "cell_type": "code",
      "metadata": {
        "id": "-Cw2bajS5pDf",
        "colab_type": "code",
        "colab": {}
      },
      "source": [
        "def modelInterpretation(device,model):\n",
        "  # Model interpretability\n",
        "  import random\n",
        "  from captum.attr import IntegratedGradients\n",
        "  from captum.attr import visualization as viz\n",
        "  from matplotlib.colors import LinearSegmentedColormap\n",
        "  %matplotlib inline\n",
        "\n",
        "  # Get random sample from test set\n",
        "  idx = random.randint(0, dataset_sizes['test']-1)\n",
        "  input, label = loaders['test'].dataset[idx]['image'], loaders['test'].dataset[idx]['finding']\n",
        "  # Normalize and show image\n",
        "  input_show = (input - input.min())/(input.max() - input.min())\n",
        "  plt.imshow(input_show.permute(1,2,0).numpy())\n",
        "  plt.axis('off')\n",
        "  # Predict class\n",
        "  model.eval()\n",
        "  output = model(input.unsqueeze(0).to(device))\n",
        "  _,pred = output.max(1)\n",
        "  pred = pred.item()\n",
        "  output_probs = F.softmax(output, dim=1)\n",
        "\n",
        "  integrated_gradients = IntegratedGradients(model.to(device))\n",
        "  input = input.to(device)\n",
        "\n",
        "  attributions_ig = integrated_gradients.attribute(input.unsqueeze(0).to(device), target=pred)\n",
        "\n",
        "  default_cmap = LinearSegmentedColormap.from_list('custom blue', \n",
        "                                                  [(0, '#ffffff'),\n",
        "                                                    (0.25, '#000000'),\n",
        "                                                    (1, '#000000')], N=256)\n",
        "\n",
        "  _= viz.visualize_image_attr(np.transpose(attributions_ig.squeeze().cpu().detach().numpy(), (1,2,0)),\n",
        "                              np.transpose(input.squeeze().cpu().detach().numpy(), (1,2,0)),\n",
        "                              method='heat_map',\n",
        "                              cmap=default_cmap,\n",
        "                              show_colorbar=True,\n",
        "                              sign='positive',\n",
        "                              outlier_perc=1)\n",
        "  return attributions_ig"
      ],
      "execution_count": 24,
      "outputs": []
    },
    {
      "cell_type": "markdown",
      "metadata": {
        "id": "hHrGcwrp3_Pq",
        "colab_type": "text"
      },
      "source": [
        "## Evaluation Functions"
      ]
    },
    {
      "cell_type": "code",
      "metadata": {
        "id": "AxT0zF2l3_Pr",
        "colab_type": "code",
        "colab": {}
      },
      "source": [
        "def testAccuracy(model,loaders,device):\n",
        "  correct = 0\n",
        "  total = 0\n",
        "  with torch.no_grad():\n",
        "      for data in loaders['test']:\n",
        "          inputs = data['image']\n",
        "          labels = data['finding']\n",
        "          outputs = model(inputs.float().to(device))\n",
        "          _, predicted = torch.max(outputs.data, 1)\n",
        "          total += labels.size(0)\n",
        "          correct += (predicted == labels.to(device)).sum().item()\n",
        "\n",
        "  print('Accuracy of the network: %d %%' % (100 * correct / total))"
      ],
      "execution_count": 67,
      "outputs": []
    },
    {
      "cell_type": "code",
      "metadata": {
        "id": "gEfeF2cT3_Pt",
        "colab_type": "code",
        "colab": {}
      },
      "source": [
        "def testCovid(model,loaders,device):\n",
        "  class_correct = list(0. for i in range(2))\n",
        "  class_total = list(0. for i in range(2))\n",
        "\n",
        "  with torch.no_grad():\n",
        "      for data in loaders['test']:\n",
        "          images = data['image']\n",
        "          labels = data['finding']\n",
        "          outputs = model(images.to(device))\n",
        "          _, predicted = torch.max(outputs, 1)\n",
        "          c = (predicted == labels.to(device))\n",
        "          for i in range(images.shape[0]):\n",
        "              label = labels[i]\n",
        "              class_correct[label] += c[i].item()\n",
        "              class_total[label] += 1\n",
        "\n",
        "  for i in range(2):\n",
        "      print('Accuracy of %5s : %2d %%' % (classes[i], 100 * class_correct[i] / class_total[i]))"
      ],
      "execution_count": 66,
      "outputs": []
    },
    {
      "cell_type": "code",
      "metadata": {
        "id": "vT__1ZOO3_Pz",
        "colab_type": "code",
        "colab": {}
      },
      "source": [
        "def confusionMatrix(model): \n",
        "  from sklearn.metrics import confusion_matrix\n",
        "\n",
        "  dataloader = torch.utils.data.DataLoader(image_datasets['test'], batch_size=(len(image_datasets['test'])), num_workers=8)\n",
        "\n",
        "  dataiter = iter(dataloader)\n",
        "  data = dataiter.next()\n",
        "  images = data['image']\n",
        "  labels = data['finding']\n",
        "\n",
        "  model.to('cpu')\n",
        "\n",
        "  output = torch.tensor(model(images).detach().numpy())\n",
        "\n",
        "  # compute the confusion matrix and and use it to derive the raw\n",
        "  # accuracy, sensitivity, and specificity\n",
        "  cm = confusion_matrix(labels, np.argmax(output,1))\n",
        "  total = sum(sum(cm))\n",
        "  acc = (cm[0, 0] + cm[1, 1]) / total\n",
        "  sensitivity = cm[0, 0] / (cm[0, 0] + cm[0, 1])\n",
        "  specificity = cm[1, 1] / (cm[1, 0] + cm[1, 1])\n",
        "  # show the confusion matrix, accuracy, sensitivity, and specificity\n",
        "  print(\"Confusion Matrix : \")\n",
        "  print(cm)\n",
        "  print(\"acc: {:.4f}\".format(acc))\n",
        "  print(\"sensitivity: {:.4f}\".format(sensitivity))\n",
        "  print(\"specificity: {:.4f}\".format(specificity))"
      ],
      "execution_count": 65,
      "outputs": []
    }
  ]
}