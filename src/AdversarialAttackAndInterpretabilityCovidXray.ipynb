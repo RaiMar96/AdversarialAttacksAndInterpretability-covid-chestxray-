{
  "nbformat": 4,
  "nbformat_minor": 0,
  "metadata": {
    "kernelspec": {
      "display_name": "Python 3",
      "language": "python",
      "name": "python3"
    },
    "language_info": {
      "codemirror_mode": {
        "name": "ipython",
        "version": 3
      },
      "file_extension": ".py",
      "mimetype": "text/x-python",
      "name": "python",
      "nbconvert_exporter": "python",
      "pygments_lexer": "ipython3",
      "version": "3.6.6"
    },
    "colab": {
      "name": "covid-19-chest-x-ray-with-pytorch.ipynb",
      "provenance": [],
      "collapsed_sections": []
    },
    "accelerator": "GPU"
  },
  "cells": [
    {
      "cell_type": "markdown",
      "metadata": {
        "id": "Z1J0z-QZOwJp",
        "colab_type": "text"
      },
      "source": [
        "# Adversarial AttacksAnd Interpretability Covid Chestxray Dataset\n",
        "\n",
        "Final Project - Cognitive Computing and Artificial Intelligence - UniCT a.a 2019/2020\n",
        "\n",
        "*   Raiti Mario O55000434\n",
        "*   Sortino Renato O55000405\n",
        "*   Nardo Gabriele Salvatore O55000430"
      ]
    },
    {
      "cell_type": "markdown",
      "metadata": {
        "id": "JfPtxK2G3_O0",
        "colab_type": "text"
      },
      "source": [
        "## Import Libraries"
      ]
    },
    {
      "cell_type": "code",
      "metadata": {
        "id": "N7cKl1Gs3_O1",
        "colab_type": "code",
        "colab": {}
      },
      "source": [
        "import numpy as np # linear algebra\n",
        "import pandas as pd # data processing, CSV file I/O (e.g. pd.read_csv)\n",
        "import matplotlib.pyplot as plt\n",
        "import os, random, torch, time, copy\n",
        "import torch.nn.functional as F\n",
        "from torch import nn\n",
        "from torch import optim\n",
        "from torchvision import datasets, transforms, models\n",
        "from torch.utils.data import Dataset\n",
        "from PIL import Image, ImageOps, ImageFilter\n",
        "from skimage.filters import threshold_local\n",
        "from torch.autograd import Variable"
      ],
      "execution_count": 1,
      "outputs": []
    },
    {
      "cell_type": "markdown",
      "metadata": {
        "id": "19WANWB4O8IB",
        "colab_type": "text"
      },
      "source": [
        "## Enable Cuda for GPU computing"
      ]
    },
    {
      "cell_type": "code",
      "metadata": {
        "id": "sPkLsdkGO6ZO",
        "colab_type": "code",
        "colab": {
          "base_uri": "https://localhost:8080/",
          "height": 35
        },
        "outputId": "e3da03b9-f2ca-466f-f25b-1e88ca639379"
      },
      "source": [
        "import torch\n",
        "# Setup device\n",
        "device = torch.device(\"cuda\" if torch.cuda.is_available() else \"cpu\")\n",
        "print(device)"
      ],
      "execution_count": 2,
      "outputs": [
        {
          "output_type": "stream",
          "text": [
            "cuda\n"
          ],
          "name": "stdout"
        }
      ]
    },
    {
      "cell_type": "markdown",
      "metadata": {
        "id": "8u-mxoVP3_O4",
        "colab_type": "text"
      },
      "source": [
        "## Create paths"
      ]
    },
    {
      "cell_type": "code",
      "metadata": {
        "_cell_guid": "79c7e3d0-c299-4dcb-8224-4455121ee9b0",
        "_uuid": "d629ff2d2480ee46fbb7e2d37f6b5fab8052498a",
        "id": "WXMBesMC3_O4",
        "colab_type": "code",
        "colab": {
          "base_uri": "https://localhost:8080/",
          "height": 35
        },
        "outputId": "453ef64b-5982-45cc-82da-b8fa3fdd6cc6"
      },
      "source": [
        "# dataset_path = './dataset'\n",
        "from os import path\n",
        "from google.colab import drive\n",
        "drive.mount(\"/content/drive\")\n",
        "covid_dataset_path = \"/content/drive/My Drive/Covid_Chestray_Dataset\"\n",
        "#covid_dataset_path = \"/content/drive/.shortcut-targets-by-id/1jrhnTdvTCvooz8T_SbI3qAsDLr08pKrk/Covid_Chestray_Dataset/\""
      ],
      "execution_count": 3,
      "outputs": [
        {
          "output_type": "stream",
          "text": [
            "Drive already mounted at /content/drive; to attempt to forcibly remount, call drive.mount(\"/content/drive\", force_remount=True).\n"
          ],
          "name": "stdout"
        }
      ]
    },
    {
      "cell_type": "markdown",
      "metadata": {
        "id": "m4egPi9M3_O7",
        "colab_type": "text"
      },
      "source": [
        "## Creating a Dataset"
      ]
    },
    {
      "cell_type": "code",
      "metadata": {
        "id": "Pu0t8sma3_O7",
        "colab_type": "code",
        "colab": {}
      },
      "source": [
        "classes = ['no-covid', 'covid']"
      ],
      "execution_count": 4,
      "outputs": []
    },
    {
      "cell_type": "code",
      "metadata": {
        "id": "iNzIGndH3_O-",
        "colab_type": "code",
        "colab": {}
      },
      "source": [
        "class image_dataset(Dataset):\n",
        "    \"\"\"Class creator for the x-ray dataset.\"\"\"\n",
        "\n",
        "    def __init__(self, csv_path, root_dir, transform=None, phase=None):\n",
        "        \"\"\"\n",
        "        Args:\n",
        "            csv_file (string): Path to the csv file with annotations.\n",
        "            root_dir (string): Directory with all the images.\n",
        "            transform (callable, optional): Optional transform to be applied\n",
        "                on a sample.\n",
        "        \"\"\"\n",
        "        self.df = pd.read_csv(csv_path)\n",
        "        self.root_dir = root_dir\n",
        "        self.transform = transform\n",
        "        # If not a PA view, drop the line \n",
        "        self.df.drop(self.df[self.df.view != 'PA'].index, inplace=True)\n",
        "        self.phase = phase\n",
        "\n",
        "    def __len__(self):\n",
        "        \n",
        "        return len(self.df)\n",
        "\n",
        "    def __getitem__(self, idx):\n",
        "        if torch.is_tensor(idx):\n",
        "            idx = idx.tolist()\n",
        "        \n",
        "        if self.df['finding'].iloc[idx] != 'COVID-19':\n",
        "            finding = 0\n",
        "            img_path = os.path.sep.join([covid_dataset_path, 'images', self.df['filename'].iloc[idx]])\n",
        "            image = Image.open(img_path)\n",
        "            sample = {'image': image, 'finding': finding}\n",
        "            \n",
        "            if self.transform:\n",
        "                sample = {'image': self.transform[self.phase](sample['image']), 'finding': finding}\n",
        "\n",
        "        else:\n",
        "            finding = 1\n",
        "            img_path = os.path.sep.join([covid_dataset_path, 'images', self.df['filename'].iloc[idx]])\n",
        "            image = Image.open(img_path)\n",
        "            sample = {'image': image, 'finding': finding}\n",
        "\n",
        "            if self.transform:\n",
        "                sample = {'image': self.transform[self.phase](sample['image']), 'finding': finding}\n",
        "\n",
        "        return sample"
      ],
      "execution_count": 5,
      "outputs": []
    },
    {
      "cell_type": "code",
      "metadata": {
        "id": "Ijs1tlD93_PA",
        "colab_type": "code",
        "colab": {}
      },
      "source": [
        "xray_dataset = image_dataset(csv_path=os.path.sep.join([covid_dataset_path, 'metadata.csv']), root_dir=covid_dataset_path)"
      ],
      "execution_count": 6,
      "outputs": []
    },
    {
      "cell_type": "markdown",
      "metadata": {
        "id": "qQh_Hos_3_PD",
        "colab_type": "text"
      },
      "source": [
        "## Creating the data transformations"
      ]
    },
    {
      "cell_type": "code",
      "metadata": {
        "id": "dtqRM8gM3_PD",
        "colab_type": "code",
        "colab": {}
      },
      "source": [
        "class HistEqualization(object):\n",
        "    \"\"\"Image pre-processing.\n",
        "\n",
        "    Equalize the image historgram\n",
        "    \"\"\"\n",
        "    \n",
        "    def __call__(self,image):\n",
        "        \n",
        "        return ImageOps.equalize(image, mask = None) "
      ],
      "execution_count": 7,
      "outputs": []
    },
    {
      "cell_type": "code",
      "metadata": {
        "id": "i5aqJtWe3_PG",
        "colab_type": "code",
        "colab": {}
      },
      "source": [
        "class ContrastBrightness(object):\n",
        "    \"\"\"Image pre-processing.\n",
        "\n",
        "    alpha = 1.0 # Simple contrast control [1.0-3.0]\n",
        "    beta = 0    # Simple brightness control [0-100]\n",
        "    \"\"\"\n",
        "    \n",
        "    def __init__(self, alpha, beta):\n",
        "        self.alpha = alpha\n",
        "        self.beta = beta\n",
        "    \n",
        "    def __call__(self,image,):\n",
        "        image = np.array(image)\n",
        "        for y in range(image.shape[0]):\n",
        "            for x in range(image.shape[1]):\n",
        "                image[y,x] = np.clip(self.alpha*image[y,x] + self.beta, 0, 255)\n",
        "\n",
        "                return Image.fromarray(np.uint8(image)*255)"
      ],
      "execution_count": 10,
      "outputs": []
    },
    {
      "cell_type": "code",
      "metadata": {
        "id": "aTjRjl2K3_PI",
        "colab_type": "code",
        "colab": {}
      },
      "source": [
        "class SmoothImage(object):\n",
        "    \"\"\"Image pre-processing.\n",
        "\n",
        "    Smooth the image\n",
        "    \"\"\"\n",
        "    def __call__(self,image):\n",
        "        \n",
        "        return image.filter(ImageFilter.SMOOTH_MORE)"
      ],
      "execution_count": 11,
      "outputs": []
    },
    {
      "cell_type": "code",
      "metadata": {
        "id": "KBYZhdJM3_PK",
        "colab_type": "code",
        "colab": {}
      },
      "source": [
        "# Data augmentation and normalization for training\n",
        "# Just normalization for validation\n",
        "data_transforms = {\n",
        "    'train': transforms.Compose([\n",
        "        transforms.Grayscale(1),\n",
        "        transforms.RandomRotation(30, fill=(0,)),\n",
        "        transforms.RandomResizedCrop(224),\n",
        "        transforms.RandomHorizontalFlip(),\n",
        "        ContrastBrightness(1.2,25),\n",
        "        HistEqualization(),\n",
        "        SmoothImage(),\n",
        "        transforms.ToTensor(),\n",
        "        transforms.Normalize([0.5],\n",
        "                             [0.25])\n",
        "    ]),\n",
        "    'test': transforms.Compose([\n",
        "        transforms.Grayscale(1),\n",
        "        transforms.Resize(240),\n",
        "        transforms.CenterCrop(224),\n",
        "        ContrastBrightness(1.2,25),\n",
        "        HistEqualization(),\n",
        "        SmoothImage(),\n",
        "        transforms.ToTensor(),\n",
        "        transforms.Normalize([0.5],\n",
        "                             [0.25])\n",
        "    ]),\n",
        "}"
      ],
      "execution_count": 12,
      "outputs": []
    },
    {
      "cell_type": "markdown",
      "metadata": {
        "id": "O0UtI_Kn3_Pa",
        "colab_type": "text"
      },
      "source": [
        "## Create a train, validation and test dataset and the dataloaders"
      ]
    },
    {
      "cell_type": "code",
      "metadata": {
        "id": "g7ORci2MYP8Y",
        "colab_type": "code",
        "colab": {}
      },
      "source": [
        "from torch.utils.data import DataLoader, Subset\n",
        "# Import images as Dataset\n",
        "image_datasets = {\n",
        "    x: image_dataset(\n",
        "        csv_path=os.path.sep.join([covid_dataset_path, 'metadata.csv']),\n",
        "        root_dir=covid_dataset_path,\n",
        "        transform=data_transforms,\n",
        "        phase=x)\n",
        "    for x in ['train', 'test']\n",
        "}"
      ],
      "execution_count": 13,
      "outputs": []
    },
    {
      "cell_type": "code",
      "metadata": {
        "id": "eAtaJkOqPT-H",
        "colab_type": "code",
        "colab": {}
      },
      "source": [
        "\"\"\"Ratio Train -> 70%, Val -> 15%, Test -> 15%\"\"\"\n",
        "total_len = len(image_datasets['train'])\n",
        "\n",
        "# Fractions\n",
        "train_frac = 0.7\n",
        "val_frac = 0.15\n",
        "test_frac = 0.15\n",
        "# Compute number of samples\n",
        "num_train = int(total_len * train_frac)\n",
        "num_val = int(total_len * val_frac)\n",
        "num_test = int(total_len * test_frac)\n",
        "# Indexes \n",
        "indexes = list(range(total_len))\n",
        "# Split training set\n",
        "train_idx = indexes[:num_train]\n",
        "val_idx = indexes[num_train : num_train + num_val]\n",
        "test_idx = indexes[num_train + num_val:]"
      ],
      "execution_count": 14,
      "outputs": []
    },
    {
      "cell_type": "code",
      "metadata": {
        "id": "_bSC5TTp3_Pb",
        "colab_type": "code",
        "colab": {}
      },
      "source": [
        "#Create train , val and test dataset and loaders as subset of image dataset\n",
        "train_dataset = Subset(image_datasets['train'], train_idx)\n",
        "val_dataset = Subset(image_datasets['test'], val_idx)\n",
        "test_dataset = Subset(image_datasets['test'], test_idx)\n",
        "\n",
        "train_loader = DataLoader(train_dataset, batch_size=16, num_workers=4, shuffle=True)\n",
        "val_loader   = DataLoader(val_dataset,   batch_size=16, num_workers=4, shuffle=False)\n",
        "test_loader  = DataLoader(test_dataset,  batch_size=16, num_workers=4, shuffle=False)\n",
        "\n",
        "loaders = {\"train\": train_loader,\n",
        "           \"val\": val_loader,\n",
        "           \"test\": test_loader}\n",
        "\n",
        "dataset_sizes = {x: len(loaders[x].dataset) for x in ['train', 'val', 'test']}"
      ],
      "execution_count": 15,
      "outputs": []
    },
    {
      "cell_type": "code",
      "metadata": {
        "id": "lGNF0ZYjYhhk",
        "colab_type": "code",
        "colab": {
          "base_uri": "https://localhost:8080/",
          "height": 35
        },
        "outputId": "af007585-e8bd-4262-c8fd-a5eb20af86c7"
      },
      "source": [
        "print(dataset_sizes)"
      ],
      "execution_count": 16,
      "outputs": [
        {
          "output_type": "stream",
          "text": [
            "{'train': 212, 'val': 45, 'test': 46}\n"
          ],
          "name": "stdout"
        }
      ]
    },
    {
      "cell_type": "markdown",
      "metadata": {
        "id": "f25ZENvp3_Pd",
        "colab_type": "text"
      },
      "source": [
        "## Create a train method"
      ]
    },
    {
      "cell_type": "code",
      "metadata": {
        "id": "XSHlu93A3_Pd",
        "colab_type": "code",
        "colab": {}
      },
      "source": [
        "def train_model(model, criterion, optimizer, scheduler, num_epochs=25, device='cpu'):\n",
        "    \"\"\"\n",
        "    Support function for model training.\n",
        "\n",
        "    Args:\n",
        "      model: Model to be trained\n",
        "      criterion: Optimization criterion (loss)\n",
        "      optimizer: Optimizer to use for training\n",
        "      scheduler: Instance of ``torch.optim.lr_scheduler``\n",
        "      num_epochs: Number of epochs\n",
        "      device: Device to run the training on. Must be 'cpu' or 'cuda'\n",
        "    \"\"\"\n",
        "    since = time.time()\n",
        "\n",
        "    best_model_wts = copy.deepcopy(model.state_dict())\n",
        "    best_acc = 0.0\n",
        "\n",
        "    history_loss = {\"train\": [], \"val\": [], \"test\": []}\n",
        "    history_accuracy = {\"train\": [], \"val\": [], \"test\": []}\n",
        "    try:\n",
        "      for epoch in range(num_epochs):\n",
        "          sum_loss = {\"train\": 0, \"val\": 0, \"test\": 0}\n",
        "          sum_accuracy = {\"train\": 0, \"val\": 0, \"test\": 0}\n",
        "          print('Epoch {}/{}'.format(epoch+1, num_epochs))\n",
        "          print('-' * 10)\n",
        "\n",
        "          # Each epoch has a training and validation phase\n",
        "          for phase in ['train', 'val', 'test']:\n",
        "              if phase == 'train':\n",
        "                  model.train()  # Set model to training mode\n",
        "              else:\n",
        "                  model.eval()   # Set model to evaluate mode\n",
        "\n",
        "              # Iterate over data.\n",
        "              for data in loaders[phase]:\n",
        "                  inputs = data['image']\n",
        "                  labels = data['finding']\n",
        "                  inputs = inputs.to(device)\n",
        "                  labels = labels.to(device)\n",
        "                  # zero the parameter gradients\n",
        "                  optimizer.zero_grad()\n",
        "                  # forward\n",
        "                  # track history if only in train\n",
        "                  with torch.set_grad_enabled(phase == 'train'):\n",
        "                      outputs = model(inputs)\n",
        "                      _, preds = torch.max(outputs, 1)\n",
        "                      loss = criterion(outputs, labels)\n",
        "                      # backward + optimize only if in training phase\n",
        "                      if phase == 'train':\n",
        "                          loss.backward()\n",
        "                          optimizer.step()\n",
        "                  # statistics\n",
        "                  sum_loss[phase] += loss.item() * inputs.size(0)              \n",
        "                  sum_accuracy[phase] += torch.sum(preds == labels.data)\n",
        "\n",
        "             # if phase == 'train':\n",
        "                 # scheduler.step()\n",
        "\n",
        "              epoch_loss = sum_loss[phase] / dataset_sizes[phase]\n",
        "              epoch_acc = sum_accuracy[phase].double() / dataset_sizes[phase]\n",
        "              print('{} Loss: {:.4f} Acc: {:.4f}'.format(phase, epoch_loss, epoch_acc))\n",
        "              # deep copy the model\n",
        "              if phase == 'val' and epoch_acc > best_acc:\n",
        "                  best_acc = epoch_acc\n",
        "                  best_model_wts = copy.deepcopy(model.state_dict())\n",
        "\n",
        "          epoch_loss_phase = {split: sum_loss[split]/dataset_sizes[split] for split in [\"train\", \"val\", \"test\"]}\n",
        "          epoch_accuracy_phase = {split: sum_accuracy[split].double()/dataset_sizes[split] for split in [\"train\", \"val\", \"test\"]}  \n",
        "\n",
        "          for split in [\"train\", \"val\", \"test\"]:\n",
        "            history_loss[split].append(epoch_loss_phase[split])\n",
        "            history_accuracy[split].append(epoch_accuracy_phase[split])\n",
        "          print('-' * 30)\n",
        "    except KeyboardInterrupt:\n",
        "      print(f\"Computation Stopped at epoch : {epoch+1}\")\n",
        "    except Exception as e:\n",
        "      print(e)\n",
        "    finally:\n",
        "      time_elapsed = time.time() - since\n",
        "      print(\"-----------------------------------------\")\n",
        "      print('Training complete in {:.0f}m {:.0f}s'.format(time_elapsed // 60, time_elapsed % 60))\n",
        "      print('Best validation Acc: {:4f}'.format(best_acc))\n",
        "      # load best model weights\n",
        "      model.load_state_dict(best_model_wts)\n",
        "      return model"
      ],
      "execution_count": 80,
      "outputs": []
    },
    {
      "cell_type": "markdown",
      "metadata": {
        "id": "GtFeYFE_3_Pf",
        "colab_type": "text"
      },
      "source": [
        "## CNNs for classification\n",
        "\n",
        "### Case 1 : Pre-trained model fine tuned \"resnet18\"\n",
        "### Case 2 : From scratch model"
      ]
    },
    {
      "cell_type": "markdown",
      "metadata": {
        "id": "2in2aj6AQMGH",
        "colab_type": "text"
      },
      "source": [
        "## Case 1"
      ]
    },
    {
      "cell_type": "markdown",
      "metadata": {
        "id": "K9GtevlW3_Pf",
        "colab_type": "text"
      },
      "source": [
        "## Load the pre-trained model"
      ]
    },
    {
      "cell_type": "code",
      "metadata": {
        "id": "uuVb0gDX3_Pg",
        "colab_type": "code",
        "colab": {}
      },
      "source": [
        "model = models.resnet18(\n",
        "    pretrained=True,\n",
        "    progress=True\n",
        ")"
      ],
      "execution_count": 69,
      "outputs": []
    },
    {
      "cell_type": "markdown",
      "metadata": {
        "id": "QgMlRXQ03_Pi",
        "colab_type": "text"
      },
      "source": [
        "## Add a front layer to receive the black and white images from the X-Ray"
      ]
    },
    {
      "cell_type": "code",
      "metadata": {
        "id": "Iw0bbLyo3_Pi",
        "colab_type": "code",
        "colab": {}
      },
      "source": [
        "model.conv1 = nn.Conv2d(1, 64, kernel_size=(7, 7), stride=(2, 2), padding=(3, 3), bias=False)"
      ],
      "execution_count": 70,
      "outputs": []
    },
    {
      "cell_type": "markdown",
      "metadata": {
        "id": "iFLore-33_Pk",
        "colab_type": "text"
      },
      "source": [
        "## Add a classification layer"
      ]
    },
    {
      "cell_type": "code",
      "metadata": {
        "id": "3YRLwF8U3_Pl",
        "colab_type": "code",
        "colab": {}
      },
      "source": [
        "num_ftrs = model.fc.in_features\n",
        "\n",
        "model.classifier = nn.Sequential(\n",
        "    nn.Dropout(p=0.5),\n",
        "    nn.Linear(num_ftrs, num_ftrs),\n",
        "    nn.Dropout(p=0.5),\n",
        "    nn.Linear(num_ftrs, 2),\n",
        ")\n",
        "\n",
        "# Freeze parameters so we don't backprop through them\n",
        "for param in model.parameters():\n",
        "    param.requires_grad = True"
      ],
      "execution_count": 71,
      "outputs": []
    },
    {
      "cell_type": "code",
      "metadata": {
        "id": "F3nhuN0m3_Pm",
        "colab_type": "code",
        "colab": {}
      },
      "source": [
        "criterion = nn.CrossEntropyLoss()\n",
        "\n",
        "# Note that we are only training the head.\n",
        "optimizer_ft = optim.SGD(model.parameters(), lr=1e-3, momentum=0.9, weight_decay=0.1)\n",
        "\n",
        "# Decay LR by a factor of 0.1 every 7 epochs\n",
        "exp_lr_scheduler = optim.lr_scheduler.StepLR(optimizer_ft, step_size=7, gamma=0.3)"
      ],
      "execution_count": 72,
      "outputs": []
    },
    {
      "cell_type": "markdown",
      "metadata": {
        "id": "SUBfLWOh3_Po",
        "colab_type": "text"
      },
      "source": [
        "## Fine tuning the model"
      ]
    },
    {
      "cell_type": "code",
      "metadata": {
        "id": "DD7pO91n3_Po",
        "colab_type": "code",
        "colab": {}
      },
      "source": [
        "model_ft = train_model(model.to(device), criterion, optimizer_ft, exp_lr_scheduler,num_epochs=50, device=device)"
      ],
      "execution_count": null,
      "outputs": []
    },
    {
      "cell_type": "code",
      "metadata": {
        "id": "9xQk3wJ1RNo1",
        "colab_type": "code",
        "colab": {}
      },
      "source": [
        "# Plot loss history\n",
        "plt.title(\"Loss\")\n",
        "for split in [\"train\", \"val\", \"test\"]:\n",
        "  plt.plot(history_loss[split], label=split)\n",
        "plt.legend()\n",
        "plt.show()\n",
        "\n",
        "# Plot accuracy history\n",
        "plt.title(\"Accuracy\")\n",
        "for split in [\"train\", \"val\", \"test\"]:\n",
        "  plt.plot(history_accuracy[split], label=split)\n",
        "plt.legend()\n",
        "plt.show()"
      ],
      "execution_count": null,
      "outputs": []
    },
    {
      "cell_type": "markdown",
      "metadata": {
        "id": "Z6Fp5GCRQRN8",
        "colab_type": "text"
      },
      "source": [
        "## Case 2"
      ]
    },
    {
      "cell_type": "code",
      "metadata": {
        "id": "aCzg0Gj0uQld",
        "colab_type": "code",
        "colab": {}
      },
      "source": [
        "# Imports\n",
        "import torch.nn as nn\n",
        "import torch.nn.functional as F\n",
        "\n",
        "# Define model\n",
        "class ModelFromScratch(nn.Module):\n",
        "    def __init__(self):\n",
        "        \n",
        "        super().__init__();\n",
        "\n",
        "        self.conv_layers = nn.Sequential(\n",
        "            # Layer 1\n",
        "            nn.Conv2d(1, 64, kernel_size=(7, 7), stride=(2, 2), padding=(3, 3), bias=False),\n",
        "            #nn.Conv2d(1, 64, kernel_size=3, padding=0, stride=1),\n",
        "            nn.ReLU(),\n",
        "            nn.BatchNorm2d(64),\n",
        "            # Layer 2\n",
        "            nn.Conv2d(64, 128, kernel_size=3, padding=0, stride=1),\n",
        "            nn.ReLU(),\n",
        "            nn.BatchNorm2d(128),\n",
        "            # Layer 3\n",
        "            nn.Conv2d(128, 128, kernel_size=3, padding=0, stride=1),\n",
        "            nn.ReLU(),\n",
        "            nn.BatchNorm2d(128),\n",
        "            nn.MaxPool2d(kernel_size=2, stride=2),\n",
        "            # Layer 4\n",
        "            nn.Conv2d(128, 256, kernel_size=3, padding=0, stride=1),\n",
        "            nn.ReLU(),\n",
        "            nn.BatchNorm2d(256),\n",
        "            nn.MaxPool2d(kernel_size=2, stride=2),\n",
        "            # Layer 5\n",
        "            nn.Conv2d(256, 512, kernel_size=3, padding=0, stride=1),\n",
        "            nn.ReLU(),\n",
        "            nn.BatchNorm2d(512),\n",
        "            nn.MaxPool2d(kernel_size=2, stride=2),\n",
        "            # Layer 6\n",
        "            nn.Conv2d(512, 512, kernel_size=3, padding=0, stride=1),\n",
        "            nn.ReLU(),\n",
        "            nn.BatchNorm2d(512),\n",
        "            nn.MaxPool2d(kernel_size=4, stride=2),\n",
        "            # Layer 7\n",
        "            nn.Conv2d(512, 512, kernel_size=3, padding=0, stride=1),\n",
        "            nn.ReLU(),\n",
        "            nn.BatchNorm2d(512),\n",
        "            nn.MaxPool2d(kernel_size=2, stride=2),\n",
        "        )\n",
        "\n",
        "        self.fc_layers = nn.Sequential(\n",
        "            # FC layer\n",
        "            nn.Linear(512, 256),\n",
        "            nn.Dropout(0.5),\n",
        "            nn.ReLU(),\n",
        "            # Classification layer\n",
        "            nn.Linear(256, len(classes))\n",
        "        )\n",
        "\n",
        "    def forward(self, x):\n",
        "        x = self.conv_layers(x)\n",
        "        x = x.view(x.size(0), -1)\n",
        "        x = self.fc_layers(x)\n",
        "        return x"
      ],
      "execution_count": 98,
      "outputs": []
    },
    {
      "cell_type": "code",
      "metadata": {
        "id": "9dKh4VipuWrX",
        "colab_type": "code",
        "colab": {
          "base_uri": "https://localhost:8080/",
          "height": 54
        },
        "outputId": "36fff937-6794-4134-c5ce-d5f57205ddc6"
      },
      "source": [
        "# Create model\n",
        "model_fs = ModelFromScratch()\n",
        "\n",
        "# Test model output\n",
        "model_fs.eval()\n",
        "test_input = train_dataset[0]['image'].unsqueeze(0)\n",
        "print(type(train_dataset[0]['image']))\n",
        "print(\"Model output size:\", model_fs(test_input).size())\n",
        "\n",
        "# Move model to device\n",
        "model_fs = model_fs.to(device)"
      ],
      "execution_count": 99,
      "outputs": [
        {
          "output_type": "stream",
          "text": [
            "<class 'torch.Tensor'>\n",
            "Model output size: torch.Size([1, 2])\n"
          ],
          "name": "stdout"
        }
      ]
    },
    {
      "cell_type": "code",
      "metadata": {
        "id": "iQBLtqF1ubAK",
        "colab_type": "code",
        "colab": {}
      },
      "source": [
        "criterion = nn.CrossEntropyLoss()\n",
        "\n",
        "# Note that we are only training the head.\n",
        "optimizer_ft = optim.SGD(model.parameters(), lr=1e-3, momentum=0.9, weight_decay=0.1)\n",
        "\n",
        "# Decay LR by a factor of 0.1 every 7 epochs\n",
        "exp_lr_scheduler = optim.lr_scheduler.StepLR(optimizer_ft, step_size=7, gamma=0.3)"
      ],
      "execution_count": 100,
      "outputs": []
    },
    {
      "cell_type": "code",
      "metadata": {
        "id": "r7nn42urub0T",
        "colab_type": "code",
        "colab": {
          "base_uri": "https://localhost:8080/",
          "height": 1000
        },
        "outputId": "4c0fe7ad-8b98-4265-8000-14609cd79385"
      },
      "source": [
        "model_fs_trained = train_model(model_fs.to(device), criterion, optimizer_ft, exp_lr_scheduler,num_epochs=50, device=device)"
      ],
      "execution_count": 101,
      "outputs": [
        {
          "output_type": "stream",
          "text": [
            "Epoch 1/50\n",
            "----------\n",
            "train Loss: 0.7652 Acc: 0.4811\n",
            "val Loss: 0.6980 Acc: 0.5111\n",
            "test Loss: 0.6978 Acc: 0.4783\n",
            "------------------------------\n",
            "Epoch 2/50\n",
            "----------\n",
            "train Loss: 0.7327 Acc: 0.5283\n",
            "val Loss: 0.7037 Acc: 0.5111\n",
            "test Loss: 0.7063 Acc: 0.4783\n",
            "------------------------------\n",
            "Epoch 3/50\n",
            "----------\n",
            "train Loss: 0.7767 Acc: 0.4151\n",
            "val Loss: 0.6968 Acc: 0.4222\n",
            "test Loss: 0.7105 Acc: 0.5000\n",
            "------------------------------\n",
            "Epoch 4/50\n",
            "----------\n",
            "train Loss: 0.7732 Acc: 0.4575\n",
            "val Loss: 0.6961 Acc: 0.5111\n",
            "test Loss: 0.7005 Acc: 0.5217\n",
            "------------------------------\n",
            "Epoch 5/50\n",
            "----------\n",
            "train Loss: 0.7422 Acc: 0.4764\n",
            "val Loss: 0.7162 Acc: 0.5111\n",
            "test Loss: 0.6973 Acc: 0.5652\n",
            "------------------------------\n",
            "Epoch 6/50\n",
            "----------\n",
            "train Loss: 0.7472 Acc: 0.5047\n",
            "val Loss: 0.7010 Acc: 0.5111\n",
            "test Loss: 0.7054 Acc: 0.4783\n",
            "------------------------------\n",
            "Epoch 7/50\n",
            "----------\n",
            "train Loss: 0.7846 Acc: 0.4387\n",
            "val Loss: 0.7034 Acc: 0.5333\n",
            "test Loss: 0.7009 Acc: 0.4565\n",
            "------------------------------\n",
            "Epoch 8/50\n",
            "----------\n",
            "train Loss: 0.7417 Acc: 0.5094\n",
            "val Loss: 0.6969 Acc: 0.5556\n",
            "test Loss: 0.7002 Acc: 0.5000\n",
            "------------------------------\n",
            "Epoch 9/50\n",
            "----------\n",
            "train Loss: 0.7226 Acc: 0.4858\n",
            "val Loss: 0.7123 Acc: 0.5556\n",
            "test Loss: 0.7041 Acc: 0.5000\n",
            "------------------------------\n",
            "Epoch 10/50\n",
            "----------\n",
            "train Loss: 0.7506 Acc: 0.4717\n",
            "val Loss: 0.7093 Acc: 0.5778\n",
            "test Loss: 0.6961 Acc: 0.5000\n",
            "------------------------------\n",
            "Epoch 11/50\n",
            "----------\n",
            "train Loss: 0.7840 Acc: 0.4245\n",
            "val Loss: 0.7133 Acc: 0.5333\n",
            "test Loss: 0.6972 Acc: 0.5217\n",
            "------------------------------\n",
            "Epoch 12/50\n",
            "----------\n",
            "train Loss: 0.7484 Acc: 0.4858\n",
            "val Loss: 0.7060 Acc: 0.5111\n",
            "test Loss: 0.6964 Acc: 0.5217\n",
            "------------------------------\n",
            "Epoch 13/50\n",
            "----------\n",
            "train Loss: 0.7818 Acc: 0.4104\n",
            "val Loss: 0.7068 Acc: 0.4889\n",
            "test Loss: 0.6956 Acc: 0.5217\n",
            "------------------------------\n",
            "Epoch 14/50\n",
            "----------\n",
            "train Loss: 0.7377 Acc: 0.5425\n",
            "val Loss: 0.6972 Acc: 0.5111\n",
            "test Loss: 0.6982 Acc: 0.5000\n",
            "------------------------------\n",
            "Epoch 15/50\n",
            "----------\n",
            "train Loss: 0.7621 Acc: 0.4906\n",
            "val Loss: 0.6914 Acc: 0.5333\n",
            "test Loss: 0.7016 Acc: 0.4783\n",
            "------------------------------\n",
            "Epoch 16/50\n",
            "----------\n",
            "train Loss: 0.7310 Acc: 0.5142\n",
            "val Loss: 0.7041 Acc: 0.5333\n",
            "test Loss: 0.6975 Acc: 0.5217\n",
            "------------------------------\n",
            "Epoch 17/50\n",
            "----------\n",
            "train Loss: 0.7578 Acc: 0.4670\n",
            "val Loss: 0.7136 Acc: 0.5111\n",
            "test Loss: 0.7058 Acc: 0.4783\n",
            "------------------------------\n",
            "Epoch 18/50\n",
            "----------\n",
            "train Loss: 0.7314 Acc: 0.5377\n",
            "val Loss: 0.7085 Acc: 0.5778\n",
            "test Loss: 0.6944 Acc: 0.5217\n",
            "------------------------------\n",
            "Epoch 19/50\n",
            "----------\n",
            "train Loss: 0.7453 Acc: 0.5000\n",
            "val Loss: 0.7054 Acc: 0.5333\n",
            "test Loss: 0.7060 Acc: 0.4565\n",
            "------------------------------\n",
            "Epoch 20/50\n",
            "----------\n",
            "train Loss: 0.7452 Acc: 0.4953\n",
            "val Loss: 0.7069 Acc: 0.4889\n",
            "test Loss: 0.6990 Acc: 0.5217\n",
            "------------------------------\n",
            "Epoch 21/50\n",
            "----------\n",
            "train Loss: 0.7785 Acc: 0.4481\n",
            "val Loss: 0.7103 Acc: 0.5111\n",
            "test Loss: 0.6990 Acc: 0.5217\n",
            "------------------------------\n",
            "Epoch 22/50\n",
            "----------\n",
            "train Loss: 0.7008 Acc: 0.5094\n",
            "val Loss: 0.7131 Acc: 0.5333\n",
            "test Loss: 0.6988 Acc: 0.5435\n",
            "------------------------------\n",
            "Epoch 23/50\n",
            "----------\n",
            "train Loss: 0.7799 Acc: 0.4340\n",
            "val Loss: 0.7105 Acc: 0.5333\n",
            "test Loss: 0.6987 Acc: 0.5217\n",
            "------------------------------\n",
            "Epoch 24/50\n",
            "----------\n",
            "train Loss: 0.7763 Acc: 0.4198\n",
            "val Loss: 0.7140 Acc: 0.5333\n",
            "test Loss: 0.7081 Acc: 0.4783\n",
            "------------------------------\n",
            "Epoch 25/50\n",
            "----------\n",
            "train Loss: 0.7434 Acc: 0.5094\n",
            "val Loss: 0.7202 Acc: 0.5111\n",
            "test Loss: 0.7120 Acc: 0.5000\n",
            "------------------------------\n",
            "Epoch 26/50\n",
            "----------\n",
            "train Loss: 0.7483 Acc: 0.4811\n",
            "val Loss: 0.7094 Acc: 0.5111\n",
            "test Loss: 0.7057 Acc: 0.4783\n",
            "------------------------------\n",
            "Epoch 27/50\n",
            "----------\n",
            "train Loss: 0.7456 Acc: 0.4811\n",
            "val Loss: 0.7058 Acc: 0.5333\n",
            "test Loss: 0.7074 Acc: 0.4783\n",
            "------------------------------\n",
            "Epoch 28/50\n",
            "----------\n",
            "train Loss: 0.7534 Acc: 0.4528\n",
            "val Loss: 0.6977 Acc: 0.5556\n",
            "test Loss: 0.7051 Acc: 0.5000\n",
            "------------------------------\n",
            "Epoch 29/50\n",
            "----------\n",
            "train Loss: 0.7614 Acc: 0.4906\n",
            "val Loss: 0.7128 Acc: 0.5333\n",
            "test Loss: 0.6991 Acc: 0.5217\n",
            "------------------------------\n",
            "Epoch 30/50\n",
            "----------\n",
            "train Loss: 0.7933 Acc: 0.4104\n",
            "val Loss: 0.7088 Acc: 0.5778\n",
            "test Loss: 0.6974 Acc: 0.5435\n",
            "------------------------------\n",
            "Epoch 31/50\n",
            "----------\n",
            "train Loss: 0.7507 Acc: 0.4670\n",
            "val Loss: 0.6991 Acc: 0.4889\n",
            "test Loss: 0.7013 Acc: 0.5000\n",
            "------------------------------\n",
            "Epoch 32/50\n",
            "----------\n",
            "train Loss: 0.7436 Acc: 0.5236\n",
            "val Loss: 0.6988 Acc: 0.5333\n",
            "test Loss: 0.6945 Acc: 0.4783\n",
            "------------------------------\n",
            "Epoch 33/50\n",
            "----------\n",
            "train Loss: 0.7264 Acc: 0.5189\n",
            "val Loss: 0.7117 Acc: 0.5556\n",
            "test Loss: 0.6945 Acc: 0.5435\n",
            "------------------------------\n",
            "Epoch 34/50\n",
            "----------\n",
            "train Loss: 0.7267 Acc: 0.5236\n",
            "val Loss: 0.7057 Acc: 0.5333\n",
            "test Loss: 0.6936 Acc: 0.5000\n",
            "------------------------------\n",
            "Epoch 35/50\n",
            "----------\n",
            "train Loss: 0.7343 Acc: 0.4906\n",
            "val Loss: 0.6970 Acc: 0.5333\n",
            "test Loss: 0.6940 Acc: 0.5217\n",
            "------------------------------\n",
            "Epoch 36/50\n",
            "----------\n",
            "train Loss: 0.7727 Acc: 0.4528\n",
            "val Loss: 0.7111 Acc: 0.5333\n",
            "test Loss: 0.6954 Acc: 0.5217\n",
            "------------------------------\n",
            "Epoch 37/50\n",
            "----------\n",
            "train Loss: 0.7567 Acc: 0.4670\n",
            "val Loss: 0.7063 Acc: 0.5333\n",
            "test Loss: 0.6990 Acc: 0.5435\n",
            "------------------------------\n",
            "Epoch 38/50\n",
            "----------\n",
            "train Loss: 0.7378 Acc: 0.4953\n",
            "val Loss: 0.6946 Acc: 0.5556\n",
            "test Loss: 0.6949 Acc: 0.5000\n",
            "------------------------------\n",
            "Epoch 39/50\n",
            "----------\n",
            "train Loss: 0.7756 Acc: 0.4434\n",
            "val Loss: 0.6971 Acc: 0.5111\n",
            "test Loss: 0.7037 Acc: 0.5217\n",
            "------------------------------\n",
            "Epoch 40/50\n",
            "----------\n",
            "train Loss: 0.7546 Acc: 0.5094\n",
            "val Loss: 0.7041 Acc: 0.5333\n",
            "test Loss: 0.6981 Acc: 0.5217\n",
            "------------------------------\n",
            "Epoch 41/50\n",
            "----------\n",
            "train Loss: 0.7062 Acc: 0.5519\n",
            "val Loss: 0.7147 Acc: 0.5778\n",
            "test Loss: 0.6973 Acc: 0.5217\n",
            "------------------------------\n",
            "Epoch 42/50\n",
            "----------\n",
            "train Loss: 0.7565 Acc: 0.4953\n",
            "val Loss: 0.7180 Acc: 0.5333\n",
            "test Loss: 0.7020 Acc: 0.5000\n",
            "------------------------------\n",
            "Epoch 43/50\n",
            "----------\n",
            "train Loss: 0.7499 Acc: 0.5189\n",
            "val Loss: 0.7038 Acc: 0.4889\n",
            "test Loss: 0.6980 Acc: 0.5000\n",
            "------------------------------\n",
            "Epoch 44/50\n",
            "----------\n",
            "train Loss: 0.7851 Acc: 0.4151\n",
            "val Loss: 0.7150 Acc: 0.5333\n",
            "test Loss: 0.7008 Acc: 0.5000\n",
            "------------------------------\n",
            "Epoch 45/50\n",
            "----------\n",
            "train Loss: 0.7429 Acc: 0.5094\n",
            "val Loss: 0.7051 Acc: 0.5333\n",
            "test Loss: 0.6993 Acc: 0.5000\n",
            "------------------------------\n",
            "Epoch 46/50\n",
            "----------\n",
            "train Loss: 0.7663 Acc: 0.4481\n",
            "val Loss: 0.6968 Acc: 0.5778\n",
            "test Loss: 0.6944 Acc: 0.4783\n",
            "------------------------------\n",
            "Epoch 47/50\n",
            "----------\n",
            "train Loss: 0.7164 Acc: 0.5425\n",
            "val Loss: 0.7030 Acc: 0.5333\n",
            "test Loss: 0.6991 Acc: 0.4565\n",
            "------------------------------\n",
            "Epoch 48/50\n",
            "----------\n",
            "train Loss: 0.7982 Acc: 0.4340\n",
            "val Loss: 0.7083 Acc: 0.5111\n",
            "test Loss: 0.6964 Acc: 0.5217\n",
            "------------------------------\n",
            "Epoch 49/50\n",
            "----------\n",
            "train Loss: 0.7919 Acc: 0.4717\n",
            "val Loss: 0.7138 Acc: 0.5333\n",
            "test Loss: 0.6998 Acc: 0.5000\n",
            "------------------------------\n",
            "Epoch 50/50\n",
            "----------\n",
            "train Loss: 0.7521 Acc: 0.4623\n",
            "val Loss: 0.7093 Acc: 0.5111\n",
            "test Loss: 0.6975 Acc: 0.5000\n",
            "------------------------------\n",
            "-----------------------------------------\n",
            "Training complete in 10m 15s\n",
            "Best validation Acc: 0.577778\n"
          ],
          "name": "stdout"
        }
      ]
    },
    {
      "cell_type": "code",
      "metadata": {
        "id": "WYmsZRJIvAHU",
        "colab_type": "code",
        "colab": {
          "base_uri": "https://localhost:8080/",
          "height": 545
        },
        "outputId": "247d6d0e-d71a-4a85-a051-0125572ea211"
      },
      "source": [
        "# Plot loss history\n",
        "plt.title(\"Loss\")\n",
        "for split in [\"train\", \"val\", \"test\"]:\n",
        "  plt.plot(history_loss[split], label=split)\n",
        "plt.legend()\n",
        "plt.show()\n",
        "\n",
        "# Plot accuracy history\n",
        "plt.title(\"Accuracy\")\n",
        "for split in [\"train\", \"val\", \"test\"]:\n",
        "  plt.plot(history_accuracy[split], label=split)\n",
        "plt.legend()\n",
        "plt.show()"
      ],
      "execution_count": 93,
      "outputs": [
        {
          "output_type": "display_data",
          "data": {
            "image/png": "[encoded data removed]",
            "text/plain": [
              "<Figure size 432x288 with 1 Axes>"
            ]
          },
          "metadata": {
            "tags": [],
            "needs_background": "light"
          }
        },
        {
          "output_type": "display_data",
          "data": {
            "image/png": "[encoded data removed]",
            "text/plain": [
              "<Figure size 432x288 with 1 Axes>"
            ]
          },
          "metadata": {
            "tags": [],
            "needs_background": "light"
          }
        }
      ]
    },
    {
      "cell_type": "markdown",
      "metadata": {
        "id": "hHrGcwrp3_Pq",
        "colab_type": "text"
      },
      "source": [
        "## Evaluation"
      ]
    },
    {
      "cell_type": "code",
      "metadata": {
        "id": "AxT0zF2l3_Pr",
        "colab_type": "code",
        "colab": {
          "base_uri": "https://localhost:8080/",
          "height": 35
        },
        "outputId": "b66a9d5c-f45f-4de3-b8d4-d7a92de5d4e4"
      },
      "source": [
        "correct = 0\n",
        "total = 0\n",
        "with torch.no_grad():\n",
        "    for data in loaders['test']:\n",
        "        inputs = data['image']\n",
        "        labels = data['finding']\n",
        "        outputs = model_ft(inputs.float().to(device))\n",
        "        _, predicted = torch.max(outputs.data, 1)\n",
        "        total += labels.size(0)\n",
        "        correct += (predicted == labels.to(device)).sum().item()\n",
        "\n",
        "print('Accuracy of the network: %d %%' % (100 * correct / total))"
      ],
      "execution_count": 31,
      "outputs": [
        {
          "output_type": "stream",
          "text": [
            "Accuracy of the network: 54 %\n"
          ],
          "name": "stdout"
        }
      ]
    },
    {
      "cell_type": "code",
      "metadata": {
        "id": "gEfeF2cT3_Pt",
        "colab_type": "code",
        "colab": {
          "base_uri": "https://localhost:8080/",
          "height": 54
        },
        "outputId": "afc54ab8-5cf4-4771-b1ee-8af05aa4ed19"
      },
      "source": [
        "class_correct = list(0. for i in range(2))\n",
        "class_total = list(0. for i in range(2))\n",
        "\n",
        "\n",
        "with torch.no_grad():\n",
        "    for data in loaders['test']:\n",
        "        images = data['image']\n",
        "        labels = data['finding']\n",
        "        outputs = model_ft(images.to(device))\n",
        "        _, predicted = torch.max(outputs, 1)\n",
        "        c = (predicted == labels.to(device)).squeeze()\n",
        "        for i in range(images.shape[0]):\n",
        "            label = labels[i]\n",
        "            class_correct[label] += c[i].item()\n",
        "            class_total[label] += 1\n",
        "\n",
        "\n",
        "for i in range(2):\n",
        "    print('Accuracy of %5s : %2d %%' % (classes[i], 100 * class_correct[i] / class_total[i]))"
      ],
      "execution_count": 23,
      "outputs": [
        {
          "output_type": "stream",
          "text": [
            "Accuracy of no-covid : 22 %\n",
            "Accuracy of covid : 70 %\n"
          ],
          "name": "stdout"
        }
      ]
    },
    {
      "cell_type": "code",
      "metadata": {
        "id": "vT__1ZOO3_Pz",
        "colab_type": "code",
        "colab": {
          "base_uri": "https://localhost:8080/",
          "height": 127
        },
        "outputId": "4f349090-5fa0-470f-828d-ad17652c8690"
      },
      "source": [
        "from sklearn.metrics import confusion_matrix\n",
        "\n",
        "# compute the confusion matrix and and use it to derive the raw\n",
        "# accuracy, sensitivity, and specificity\n",
        "cm = confusion_matrix(labels, np.argmax(output,1))\n",
        "total = sum(sum(cm))\n",
        "acc = (cm[0, 0] + cm[1, 1]) / total\n",
        "sensitivity = cm[0, 0] / (cm[0, 0] + cm[0, 1])\n",
        "specificity = cm[1, 1] / (cm[1, 0] + cm[1, 1])\n",
        "# show the confusion matrix, accuracy, sensitivity, and specificity\n",
        "print(\"Confusion Matrix : \")\n",
        "print(cm)\n",
        "print(\"acc: {:.4f}\".format(acc))\n",
        "print(\"sensitivity: {:.4f}\".format(sensitivity))\n",
        "print(\"specificity: {:.4f}\".format(specificity))"
      ],
      "execution_count": 30,
      "outputs": [
        {
          "output_type": "stream",
          "text": [
            "Confusion Matrix : \n",
            "[[ 40  62]\n",
            " [ 38 163]]\n",
            "acc: 0.6700\n",
            "sensitivity: 0.3922\n",
            "specificity: 0.8109\n"
          ],
          "name": "stdout"
        }
      ]
    },
    {
      "cell_type": "code",
      "metadata": {
        "id": "r4SDrx0K3_P1",
        "colab_type": "code",
        "colab": {}
      },
      "source": [
        ""
      ],
      "execution_count": null,
      "outputs": []
    }
  ]
}